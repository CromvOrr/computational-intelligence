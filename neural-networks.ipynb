{
 "cells": [
  {
   "cell_type": "markdown",
   "id": "e69604a04cb9575f",
   "metadata": {},
   "source": [
    "# **Dataset description**\n",
    "\n",
    "This database contains a complete set of board configurations at the end of **Tic-Tac-Toe** games.\n",
    "\n",
    "It is assumed that **x** always starts the game.\n",
    "\n",
    "</br></br>\n",
    "\n",
    "The task is to perform binary classification to determine whether **x** won or lost.\n",
    "\n",
    "If **x** achieved one of the eight possible winning sequences, the result was labeled as `positive`; otherwise, it was labeled as `negative`.\n",
    "\n",
    "</br>\n",
    "\n",
    "This project utilises the [Tic-Tac-Toe Endgame](https://archive.ics.uci.edu/dataset/101/tic+tac+toe+endgame) dataset,\n",
    "donated by David Aha in 1991, which is shared under the **[CC-BY-4.0](https://creativecommons.org/licenses/by/4.0/)** license.\n",
    "\n",
    "</br></br>\n",
    "\n",
    "<img src=\"https://github.com/CromvOrr/computational-intelligence/blob/images/icon.png?raw=true\" alt=\"\" width=\"450\"/>"
   ]
  },
  {
   "cell_type": "markdown",
   "id": "6043318e11d1eb76",
   "metadata": {},
   "source": [
    "<img src=\"https://github.com/CromvOrr/computational-intelligence/blob/images/variables-table.png?raw=true\" alt=\"\" width=\"800\"/>"
   ]
  },
  {
   "cell_type": "code",
   "execution_count": 36,
   "id": "f6d6d51f2977f0e4",
   "metadata": {},
   "outputs": [],
   "source": [
    "%%capture --no-display\n",
    "%pip install ucimlrepo\n",
    "%pip install pandas\n",
    "%pip install matplotlib\n",
    "%pip install seaborn\n",
    "%pip install numpy\n",
    "%pip install scikit-learn\n",
    "%pip install tensorflow\n",
    "%pip install minisom\n",
    "%pip install optuna\n",
    "%pip install plotly"
   ]
  },
  {
   "cell_type": "code",
   "execution_count": 37,
   "id": "8b79d94a6bcb2e37",
   "metadata": {},
   "outputs": [],
   "source": [
    "from ucimlrepo import fetch_ucirepo\n",
    "import pandas as pd\n",
    "import matplotlib.pyplot as plt\n",
    "import seaborn as sns\n",
    "import numpy as np\n",
    "from sklearn.model_selection import train_test_split\n",
    "from tensorflow.keras.models import Sequential\n",
    "from tensorflow.keras.metrics import Precision\n",
    "from tensorflow.keras.layers import Dense\n",
    "from minisom import MiniSom\n",
    "import optuna\n",
    "import warnings\n",
    "from plotly.io import show\n",
    "import math\n",
    "from sklearn.preprocessing import label_binarize\n",
    "from sklearn.metrics import roc_curve, auc\n",
    "from matplotlib.lines import Line2D"
   ]
  },
  {
   "cell_type": "code",
   "execution_count": 38,
   "id": "523f3142b5be16ea",
   "metadata": {},
   "outputs": [],
   "source": [
    "columns = ['top-left-square', 'top-middle-square', 'top-right-square', 'middle-left-square', 'middle-middle-square',\n",
    "           'middle-right-square', 'bottom-left-square', 'bottom-middle-square', 'bottom-right-square', 'class']\n",
    "\n",
    "tic_tac_toe_endgame = fetch_ucirepo(id=101)\n",
    "features = tic_tac_toe_endgame.data.features\n",
    "targets = tic_tac_toe_endgame.data.targets\n",
    "data = pd.concat([features, targets], axis=1)"
   ]
  },
  {
   "cell_type": "code",
   "execution_count": 39,
   "id": "597454ad86c63e47",
   "metadata": {},
   "outputs": [
    {
     "data": {
      "text/html": [
       "<div>\n",
       "<style scoped>\n",
       "    .dataframe tbody tr th:only-of-type {\n",
       "        vertical-align: middle;\n",
       "    }\n",
       "\n",
       "    .dataframe tbody tr th {\n",
       "        vertical-align: top;\n",
       "    }\n",
       "\n",
       "    .dataframe thead th {\n",
       "        text-align: right;\n",
       "    }\n",
       "</style>\n",
       "<table border=\"1\" class=\"dataframe\">\n",
       "  <thead>\n",
       "    <tr style=\"text-align: right;\">\n",
       "      <th></th>\n",
       "      <th>top-left-square</th>\n",
       "      <th>top-middle-square</th>\n",
       "      <th>top-right-square</th>\n",
       "      <th>middle-left-square</th>\n",
       "      <th>middle-middle-square</th>\n",
       "      <th>middle-right-square</th>\n",
       "      <th>bottom-left-square</th>\n",
       "      <th>bottom-middle-square</th>\n",
       "      <th>bottom-right-square</th>\n",
       "      <th>class</th>\n",
       "    </tr>\n",
       "  </thead>\n",
       "  <tbody>\n",
       "    <tr>\n",
       "      <th>0</th>\n",
       "      <td>x</td>\n",
       "      <td>x</td>\n",
       "      <td>x</td>\n",
       "      <td>x</td>\n",
       "      <td>o</td>\n",
       "      <td>o</td>\n",
       "      <td>x</td>\n",
       "      <td>o</td>\n",
       "      <td>o</td>\n",
       "      <td>positive</td>\n",
       "    </tr>\n",
       "    <tr>\n",
       "      <th>1</th>\n",
       "      <td>x</td>\n",
       "      <td>x</td>\n",
       "      <td>x</td>\n",
       "      <td>x</td>\n",
       "      <td>o</td>\n",
       "      <td>o</td>\n",
       "      <td>o</td>\n",
       "      <td>x</td>\n",
       "      <td>o</td>\n",
       "      <td>positive</td>\n",
       "    </tr>\n",
       "    <tr>\n",
       "      <th>2</th>\n",
       "      <td>x</td>\n",
       "      <td>x</td>\n",
       "      <td>x</td>\n",
       "      <td>x</td>\n",
       "      <td>o</td>\n",
       "      <td>o</td>\n",
       "      <td>o</td>\n",
       "      <td>o</td>\n",
       "      <td>x</td>\n",
       "      <td>positive</td>\n",
       "    </tr>\n",
       "    <tr>\n",
       "      <th>3</th>\n",
       "      <td>x</td>\n",
       "      <td>x</td>\n",
       "      <td>x</td>\n",
       "      <td>x</td>\n",
       "      <td>o</td>\n",
       "      <td>o</td>\n",
       "      <td>o</td>\n",
       "      <td>b</td>\n",
       "      <td>b</td>\n",
       "      <td>positive</td>\n",
       "    </tr>\n",
       "    <tr>\n",
       "      <th>4</th>\n",
       "      <td>x</td>\n",
       "      <td>x</td>\n",
       "      <td>x</td>\n",
       "      <td>x</td>\n",
       "      <td>o</td>\n",
       "      <td>o</td>\n",
       "      <td>b</td>\n",
       "      <td>o</td>\n",
       "      <td>b</td>\n",
       "      <td>positive</td>\n",
       "    </tr>\n",
       "  </tbody>\n",
       "</table>\n",
       "</div>"
      ],
      "text/plain": [
       "  top-left-square top-middle-square top-right-square middle-left-square  \\\n",
       "0               x                 x                x                  x   \n",
       "1               x                 x                x                  x   \n",
       "2               x                 x                x                  x   \n",
       "3               x                 x                x                  x   \n",
       "4               x                 x                x                  x   \n",
       "\n",
       "  middle-middle-square middle-right-square bottom-left-square  \\\n",
       "0                    o                   o                  x   \n",
       "1                    o                   o                  o   \n",
       "2                    o                   o                  o   \n",
       "3                    o                   o                  o   \n",
       "4                    o                   o                  b   \n",
       "\n",
       "  bottom-middle-square bottom-right-square     class  \n",
       "0                    o                   o  positive  \n",
       "1                    x                   o  positive  \n",
       "2                    o                   x  positive  \n",
       "3                    b                   b  positive  \n",
       "4                    o                   b  positive  "
      ]
     },
     "execution_count": 39,
     "metadata": {},
     "output_type": "execute_result"
    }
   ],
   "source": [
    "data.head()"
   ]
  },
  {
   "cell_type": "markdown",
   "id": "6ca989a63cf3da72",
   "metadata": {},
   "source": [
    "This dataset has no missing values and contains a total of **958** records"
   ]
  },
  {
   "cell_type": "code",
   "execution_count": 40,
   "id": "5bd7642bd21a65ec",
   "metadata": {},
   "outputs": [
    {
     "name": "stdout",
     "output_type": "stream",
     "text": [
      "<class 'pandas.core.frame.DataFrame'>\n",
      "RangeIndex: 958 entries, 0 to 957\n",
      "Data columns (total 10 columns):\n",
      " #   Column                Non-Null Count  Dtype \n",
      "---  ------                --------------  ----- \n",
      " 0   top-left-square       958 non-null    object\n",
      " 1   top-middle-square     958 non-null    object\n",
      " 2   top-right-square      958 non-null    object\n",
      " 3   middle-left-square    958 non-null    object\n",
      " 4   middle-middle-square  958 non-null    object\n",
      " 5   middle-right-square   958 non-null    object\n",
      " 6   bottom-left-square    958 non-null    object\n",
      " 7   bottom-middle-square  958 non-null    object\n",
      " 8   bottom-right-square   958 non-null    object\n",
      " 9   class                 958 non-null    object\n",
      "dtypes: object(10)\n",
      "memory usage: 75.0+ KB\n"
     ]
    }
   ],
   "source": [
    "data.info()"
   ]
  },
  {
   "cell_type": "code",
   "execution_count": 41,
   "id": "9b81f7f33cc3b1ef",
   "metadata": {},
   "outputs": [
    {
     "data": {
      "image/png": "[encoded data removed]",
      "text/plain": [
       "<Figure size 800x500 with 1 Axes>"
      ]
     },
     "metadata": {},
     "output_type": "display_data"
    }
   ],
   "source": [
    "custom_palette = {'positive': '#60d394', 'negative': '#ee6055'}\n",
    "plt.figure(figsize=(8, 5))\n",
    "sns.countplot(x='class', data=data, hue='class', palette=custom_palette)\n",
    "plt.title('Distribution of Wins and Losses for \\'x\\'')\n",
    "plt.xlabel('Result')\n",
    "plt.ylabel('Number of Games')\n",
    "plt.show()"
   ]
  },
  {
   "cell_type": "code",
   "execution_count": 42,
   "id": "341d53dcf9a7657a",
   "metadata": {},
   "outputs": [
    {
     "data": {
      "image/png": "[encoded data removed]",
      "text/plain": [
       "<Figure size 1500x1000 with 9 Axes>"
      ]
     },
     "metadata": {},
     "output_type": "display_data"
    }
   ],
   "source": [
    "custom_palette = {'o': '#a9c8f0', 'x': '#a1e3a7', 'b': '#efb3e1'}\n",
    "plt.figure(figsize=(15, 10))\n",
    "for i, column in enumerate(columns[:-1]):\n",
    "    plt.subplot(3, 3, i + 1)\n",
    "    sns.countplot(data=data,\n",
    "                  x=column,\n",
    "                  order=['o', 'x', 'b'],\n",
    "                  hue=column,\n",
    "                  palette=custom_palette,\n",
    "                  legend=False\n",
    "                  )\n",
    "    plt.title(column)\n",
    "    plt.xlabel('Value')\n",
    "    plt.ylabel('Occurrences')\n",
    "    plt.ylim(0, 500)\n",
    "plt.tight_layout()\n",
    "plt.show()"
   ]
  },
  {
   "cell_type": "code",
   "execution_count": 43,
   "id": "f98c3c98c2e7006c",
   "metadata": {},
   "outputs": [
    {
     "data": {
      "image/png": "[encoded data removed]",
      "text/plain": [
       "<Figure size 1800x600 with 6 Axes>"
      ]
     },
     "metadata": {},
     "output_type": "display_data"
    }
   ],
   "source": [
    "data_dropped = data.drop(columns=['class'])\n",
    "x_labels = ['left', 'middle', 'right']\n",
    "y_labels = ['top', 'middle', 'bottom']\n",
    "\n",
    "\n",
    "def get_counts(char, data, data_dropped):\n",
    "    counts = [data[cell].value_counts().get(char) for cell in data_dropped.columns]\n",
    "    return np.array(counts).reshape(3, 3)\n",
    "\n",
    "\n",
    "matrices = {\n",
    "    'o': get_counts('o', data, data_dropped),\n",
    "    'x': get_counts('x', data, data_dropped),\n",
    "    'b': get_counts('b', data, data_dropped)\n",
    "}\n",
    "\n",
    "fig, axes = plt.subplots(1, 3, figsize=(18, 6))\n",
    "for ax, (key, matrix) in zip(axes, matrices.items()):\n",
    "    sns.heatmap(\n",
    "        matrix, ax=ax, cmap='RdYlBu', cbar=True, vmin=0, vmax=500,\n",
    "        xticklabels=x_labels, yticklabels=y_labels, annot=True, fmt='d'\n",
    "    )\n",
    "    ax.set_title(f'Count of \\'{key}\\' in each cell')\n",
    "\n",
    "plt.tight_layout()\n",
    "plt.show()"
   ]
  },
  {
   "cell_type": "markdown",
   "id": "1a428ea4ce233236",
   "metadata": {},
   "source": [
    "# **Data preparation**\n",
    "\n",
    "We convert all categorical variables into **one-hot encoded** variables. This means that each category is transformed into new binary columns - `True` means that the observation belongs to a given category.\n",
    "\n",
    "These variables are essential for many machine learning algorithms, as most of them require all input data to be numerical. This allows machine learning algorithms to understand categorical data.\n",
    "\n",
    "This encoding method increases the number of neurons - thanks to it, we get more input data columns.\n",
    "\n",
    "</br></br>\n",
    "\n",
    "The **[train_test_split()](https://scikit-learn.org/dev/modules/generated/sklearn.model_selection.train_test_split.html)** function breaks the input data into random subsets for training and testing, while maintaining specified proportions.\n",
    "\n",
    "Parameter `stratify` ensures that the proportions of values in created samples are the same as the proportions passed via this parameter. It also guarantees that the data used in one process does not appear in another.\n",
    "\n",
    "</br></br>\n",
    "\n",
    "In this case, when splitting the data into sets, it is not necessary to consider the type of network.\n",
    "\n",
    "The reason is simple - breaking the data into two (or more) parts, either randomly or in a controlled manner, is unrelated to the model architecture."
   ]
  },
  {
   "cell_type": "markdown",
   "id": "d5e45af98b90c4e5",
   "metadata": {},
   "source": [
    "## FFNN"
   ]
  },
  {
   "cell_type": "code",
   "execution_count": 44,
   "id": "752df09d2106c2d3",
   "metadata": {},
   "outputs": [],
   "source": [
    "dummies = pd.get_dummies(data)\n",
    "X_FFNN = dummies.iloc[:, :-2]       # features\n",
    "Y_FFNN = dummies.iloc[:, -2:]       # targets"
   ]
  },
  {
   "cell_type": "code",
   "execution_count": 45,
   "id": "a8879f6ee932d558",
   "metadata": {},
   "outputs": [
    {
     "data": {
      "text/html": [
       "<div>\n",
       "<style scoped>\n",
       "    .dataframe tbody tr th:only-of-type {\n",
       "        vertical-align: middle;\n",
       "    }\n",
       "\n",
       "    .dataframe tbody tr th {\n",
       "        vertical-align: top;\n",
       "    }\n",
       "\n",
       "    .dataframe thead th {\n",
       "        text-align: right;\n",
       "    }\n",
       "</style>\n",
       "<table border=\"1\" class=\"dataframe\">\n",
       "  <thead>\n",
       "    <tr style=\"text-align: right;\">\n",
       "      <th></th>\n",
       "      <th>top-left-square_b</th>\n",
       "      <th>top-left-square_o</th>\n",
       "      <th>top-left-square_x</th>\n",
       "      <th>top-middle-square_b</th>\n",
       "      <th>top-middle-square_o</th>\n",
       "      <th>top-middle-square_x</th>\n",
       "      <th>top-right-square_b</th>\n",
       "      <th>top-right-square_o</th>\n",
       "      <th>top-right-square_x</th>\n",
       "      <th>middle-left-square_b</th>\n",
       "      <th>...</th>\n",
       "      <th>middle-right-square_x</th>\n",
       "      <th>bottom-left-square_b</th>\n",
       "      <th>bottom-left-square_o</th>\n",
       "      <th>bottom-left-square_x</th>\n",
       "      <th>bottom-middle-square_b</th>\n",
       "      <th>bottom-middle-square_o</th>\n",
       "      <th>bottom-middle-square_x</th>\n",
       "      <th>bottom-right-square_b</th>\n",
       "      <th>bottom-right-square_o</th>\n",
       "      <th>bottom-right-square_x</th>\n",
       "    </tr>\n",
       "  </thead>\n",
       "  <tbody>\n",
       "    <tr>\n",
       "      <th>0</th>\n",
       "      <td>False</td>\n",
       "      <td>False</td>\n",
       "      <td>True</td>\n",
       "      <td>False</td>\n",
       "      <td>False</td>\n",
       "      <td>True</td>\n",
       "      <td>False</td>\n",
       "      <td>False</td>\n",
       "      <td>True</td>\n",
       "      <td>False</td>\n",
       "      <td>...</td>\n",
       "      <td>False</td>\n",
       "      <td>False</td>\n",
       "      <td>False</td>\n",
       "      <td>True</td>\n",
       "      <td>False</td>\n",
       "      <td>True</td>\n",
       "      <td>False</td>\n",
       "      <td>False</td>\n",
       "      <td>True</td>\n",
       "      <td>False</td>\n",
       "    </tr>\n",
       "    <tr>\n",
       "      <th>1</th>\n",
       "      <td>False</td>\n",
       "      <td>False</td>\n",
       "      <td>True</td>\n",
       "      <td>False</td>\n",
       "      <td>False</td>\n",
       "      <td>True</td>\n",
       "      <td>False</td>\n",
       "      <td>False</td>\n",
       "      <td>True</td>\n",
       "      <td>False</td>\n",
       "      <td>...</td>\n",
       "      <td>False</td>\n",
       "      <td>False</td>\n",
       "      <td>True</td>\n",
       "      <td>False</td>\n",
       "      <td>False</td>\n",
       "      <td>False</td>\n",
       "      <td>True</td>\n",
       "      <td>False</td>\n",
       "      <td>True</td>\n",
       "      <td>False</td>\n",
       "    </tr>\n",
       "    <tr>\n",
       "      <th>2</th>\n",
       "      <td>False</td>\n",
       "      <td>False</td>\n",
       "      <td>True</td>\n",
       "      <td>False</td>\n",
       "      <td>False</td>\n",
       "      <td>True</td>\n",
       "      <td>False</td>\n",
       "      <td>False</td>\n",
       "      <td>True</td>\n",
       "      <td>False</td>\n",
       "      <td>...</td>\n",
       "      <td>False</td>\n",
       "      <td>False</td>\n",
       "      <td>True</td>\n",
       "      <td>False</td>\n",
       "      <td>False</td>\n",
       "      <td>True</td>\n",
       "      <td>False</td>\n",
       "      <td>False</td>\n",
       "      <td>False</td>\n",
       "      <td>True</td>\n",
       "    </tr>\n",
       "    <tr>\n",
       "      <th>3</th>\n",
       "      <td>False</td>\n",
       "      <td>False</td>\n",
       "      <td>True</td>\n",
       "      <td>False</td>\n",
       "      <td>False</td>\n",
       "      <td>True</td>\n",
       "      <td>False</td>\n",
       "      <td>False</td>\n",
       "      <td>True</td>\n",
       "      <td>False</td>\n",
       "      <td>...</td>\n",
       "      <td>False</td>\n",
       "      <td>False</td>\n",
       "      <td>True</td>\n",
       "      <td>False</td>\n",
       "      <td>True</td>\n",
       "      <td>False</td>\n",
       "      <td>False</td>\n",
       "      <td>True</td>\n",
       "      <td>False</td>\n",
       "      <td>False</td>\n",
       "    </tr>\n",
       "    <tr>\n",
       "      <th>4</th>\n",
       "      <td>False</td>\n",
       "      <td>False</td>\n",
       "      <td>True</td>\n",
       "      <td>False</td>\n",
       "      <td>False</td>\n",
       "      <td>True</td>\n",
       "      <td>False</td>\n",
       "      <td>False</td>\n",
       "      <td>True</td>\n",
       "      <td>False</td>\n",
       "      <td>...</td>\n",
       "      <td>False</td>\n",
       "      <td>True</td>\n",
       "      <td>False</td>\n",
       "      <td>False</td>\n",
       "      <td>False</td>\n",
       "      <td>True</td>\n",
       "      <td>False</td>\n",
       "      <td>True</td>\n",
       "      <td>False</td>\n",
       "      <td>False</td>\n",
       "    </tr>\n",
       "    <tr>\n",
       "      <th>...</th>\n",
       "      <td>...</td>\n",
       "      <td>...</td>\n",
       "      <td>...</td>\n",
       "      <td>...</td>\n",
       "      <td>...</td>\n",
       "      <td>...</td>\n",
       "      <td>...</td>\n",
       "      <td>...</td>\n",
       "      <td>...</td>\n",
       "      <td>...</td>\n",
       "      <td>...</td>\n",
       "      <td>...</td>\n",
       "      <td>...</td>\n",
       "      <td>...</td>\n",
       "      <td>...</td>\n",
       "      <td>...</td>\n",
       "      <td>...</td>\n",
       "      <td>...</td>\n",
       "      <td>...</td>\n",
       "      <td>...</td>\n",
       "      <td>...</td>\n",
       "    </tr>\n",
       "    <tr>\n",
       "      <th>953</th>\n",
       "      <td>False</td>\n",
       "      <td>True</td>\n",
       "      <td>False</td>\n",
       "      <td>False</td>\n",
       "      <td>False</td>\n",
       "      <td>True</td>\n",
       "      <td>False</td>\n",
       "      <td>False</td>\n",
       "      <td>True</td>\n",
       "      <td>False</td>\n",
       "      <td>...</td>\n",
       "      <td>False</td>\n",
       "      <td>False</td>\n",
       "      <td>True</td>\n",
       "      <td>False</td>\n",
       "      <td>False</td>\n",
       "      <td>False</td>\n",
       "      <td>True</td>\n",
       "      <td>False</td>\n",
       "      <td>False</td>\n",
       "      <td>True</td>\n",
       "    </tr>\n",
       "    <tr>\n",
       "      <th>954</th>\n",
       "      <td>False</td>\n",
       "      <td>True</td>\n",
       "      <td>False</td>\n",
       "      <td>False</td>\n",
       "      <td>False</td>\n",
       "      <td>True</td>\n",
       "      <td>False</td>\n",
       "      <td>True</td>\n",
       "      <td>False</td>\n",
       "      <td>False</td>\n",
       "      <td>...</td>\n",
       "      <td>False</td>\n",
       "      <td>False</td>\n",
       "      <td>False</td>\n",
       "      <td>True</td>\n",
       "      <td>False</td>\n",
       "      <td>True</td>\n",
       "      <td>False</td>\n",
       "      <td>False</td>\n",
       "      <td>False</td>\n",
       "      <td>True</td>\n",
       "    </tr>\n",
       "    <tr>\n",
       "      <th>955</th>\n",
       "      <td>False</td>\n",
       "      <td>True</td>\n",
       "      <td>False</td>\n",
       "      <td>False</td>\n",
       "      <td>False</td>\n",
       "      <td>True</td>\n",
       "      <td>False</td>\n",
       "      <td>True</td>\n",
       "      <td>False</td>\n",
       "      <td>False</td>\n",
       "      <td>...</td>\n",
       "      <td>True</td>\n",
       "      <td>False</td>\n",
       "      <td>False</td>\n",
       "      <td>True</td>\n",
       "      <td>False</td>\n",
       "      <td>True</td>\n",
       "      <td>False</td>\n",
       "      <td>False</td>\n",
       "      <td>False</td>\n",
       "      <td>True</td>\n",
       "    </tr>\n",
       "    <tr>\n",
       "      <th>956</th>\n",
       "      <td>False</td>\n",
       "      <td>True</td>\n",
       "      <td>False</td>\n",
       "      <td>False</td>\n",
       "      <td>False</td>\n",
       "      <td>True</td>\n",
       "      <td>False</td>\n",
       "      <td>True</td>\n",
       "      <td>False</td>\n",
       "      <td>False</td>\n",
       "      <td>...</td>\n",
       "      <td>True</td>\n",
       "      <td>False</td>\n",
       "      <td>False</td>\n",
       "      <td>True</td>\n",
       "      <td>False</td>\n",
       "      <td>True</td>\n",
       "      <td>False</td>\n",
       "      <td>False</td>\n",
       "      <td>False</td>\n",
       "      <td>True</td>\n",
       "    </tr>\n",
       "    <tr>\n",
       "      <th>957</th>\n",
       "      <td>False</td>\n",
       "      <td>True</td>\n",
       "      <td>False</td>\n",
       "      <td>False</td>\n",
       "      <td>True</td>\n",
       "      <td>False</td>\n",
       "      <td>False</td>\n",
       "      <td>False</td>\n",
       "      <td>True</td>\n",
       "      <td>False</td>\n",
       "      <td>...</td>\n",
       "      <td>False</td>\n",
       "      <td>False</td>\n",
       "      <td>True</td>\n",
       "      <td>False</td>\n",
       "      <td>False</td>\n",
       "      <td>False</td>\n",
       "      <td>True</td>\n",
       "      <td>False</td>\n",
       "      <td>False</td>\n",
       "      <td>True</td>\n",
       "    </tr>\n",
       "  </tbody>\n",
       "</table>\n",
       "<p>958 rows × 27 columns</p>\n",
       "</div>"
      ],
      "text/plain": [
       "     top-left-square_b  top-left-square_o  top-left-square_x  \\\n",
       "0                False              False               True   \n",
       "1                False              False               True   \n",
       "2                False              False               True   \n",
       "3                False              False               True   \n",
       "4                False              False               True   \n",
       "..                 ...                ...                ...   \n",
       "953              False               True              False   \n",
       "954              False               True              False   \n",
       "955              False               True              False   \n",
       "956              False               True              False   \n",
       "957              False               True              False   \n",
       "\n",
       "     top-middle-square_b  top-middle-square_o  top-middle-square_x  \\\n",
       "0                  False                False                 True   \n",
       "1                  False                False                 True   \n",
       "2                  False                False                 True   \n",
       "3                  False                False                 True   \n",
       "4                  False                False                 True   \n",
       "..                   ...                  ...                  ...   \n",
       "953                False                False                 True   \n",
       "954                False                False                 True   \n",
       "955                False                False                 True   \n",
       "956                False                False                 True   \n",
       "957                False                 True                False   \n",
       "\n",
       "     top-right-square_b  top-right-square_o  top-right-square_x  \\\n",
       "0                 False               False                True   \n",
       "1                 False               False                True   \n",
       "2                 False               False                True   \n",
       "3                 False               False                True   \n",
       "4                 False               False                True   \n",
       "..                  ...                 ...                 ...   \n",
       "953               False               False                True   \n",
       "954               False                True               False   \n",
       "955               False                True               False   \n",
       "956               False                True               False   \n",
       "957               False               False                True   \n",
       "\n",
       "     middle-left-square_b  ...  middle-right-square_x  bottom-left-square_b  \\\n",
       "0                   False  ...                  False                 False   \n",
       "1                   False  ...                  False                 False   \n",
       "2                   False  ...                  False                 False   \n",
       "3                   False  ...                  False                 False   \n",
       "4                   False  ...                  False                  True   \n",
       "..                    ...  ...                    ...                   ...   \n",
       "953                 False  ...                  False                 False   \n",
       "954                 False  ...                  False                 False   \n",
       "955                 False  ...                   True                 False   \n",
       "956                 False  ...                   True                 False   \n",
       "957                 False  ...                  False                 False   \n",
       "\n",
       "     bottom-left-square_o  bottom-left-square_x  bottom-middle-square_b  \\\n",
       "0                   False                  True                   False   \n",
       "1                    True                 False                   False   \n",
       "2                    True                 False                   False   \n",
       "3                    True                 False                    True   \n",
       "4                   False                 False                   False   \n",
       "..                    ...                   ...                     ...   \n",
       "953                  True                 False                   False   \n",
       "954                 False                  True                   False   \n",
       "955                 False                  True                   False   \n",
       "956                 False                  True                   False   \n",
       "957                  True                 False                   False   \n",
       "\n",
       "     bottom-middle-square_o  bottom-middle-square_x  bottom-right-square_b  \\\n",
       "0                      True                   False                  False   \n",
       "1                     False                    True                  False   \n",
       "2                      True                   False                  False   \n",
       "3                     False                   False                   True   \n",
       "4                      True                   False                   True   \n",
       "..                      ...                     ...                    ...   \n",
       "953                   False                    True                  False   \n",
       "954                    True                   False                  False   \n",
       "955                    True                   False                  False   \n",
       "956                    True                   False                  False   \n",
       "957                   False                    True                  False   \n",
       "\n",
       "     bottom-right-square_o  bottom-right-square_x  \n",
       "0                     True                  False  \n",
       "1                     True                  False  \n",
       "2                    False                   True  \n",
       "3                    False                  False  \n",
       "4                    False                  False  \n",
       "..                     ...                    ...  \n",
       "953                  False                   True  \n",
       "954                  False                   True  \n",
       "955                  False                   True  \n",
       "956                  False                   True  \n",
       "957                  False                   True  \n",
       "\n",
       "[958 rows x 27 columns]"
      ]
     },
     "execution_count": 45,
     "metadata": {},
     "output_type": "execute_result"
    }
   ],
   "source": [
    "X_FFNN"
   ]
  },
  {
   "cell_type": "code",
   "execution_count": 46,
   "id": "ba64f24269af8ef1",
   "metadata": {},
   "outputs": [
    {
     "data": {
      "text/html": [
       "<div>\n",
       "<style scoped>\n",
       "    .dataframe tbody tr th:only-of-type {\n",
       "        vertical-align: middle;\n",
       "    }\n",
       "\n",
       "    .dataframe tbody tr th {\n",
       "        vertical-align: top;\n",
       "    }\n",
       "\n",
       "    .dataframe thead th {\n",
       "        text-align: right;\n",
       "    }\n",
       "</style>\n",
       "<table border=\"1\" class=\"dataframe\">\n",
       "  <thead>\n",
       "    <tr style=\"text-align: right;\">\n",
       "      <th></th>\n",
       "      <th>class_negative</th>\n",
       "      <th>class_positive</th>\n",
       "    </tr>\n",
       "  </thead>\n",
       "  <tbody>\n",
       "    <tr>\n",
       "      <th>0</th>\n",
       "      <td>False</td>\n",
       "      <td>True</td>\n",
       "    </tr>\n",
       "    <tr>\n",
       "      <th>1</th>\n",
       "      <td>False</td>\n",
       "      <td>True</td>\n",
       "    </tr>\n",
       "    <tr>\n",
       "      <th>2</th>\n",
       "      <td>False</td>\n",
       "      <td>True</td>\n",
       "    </tr>\n",
       "    <tr>\n",
       "      <th>3</th>\n",
       "      <td>False</td>\n",
       "      <td>True</td>\n",
       "    </tr>\n",
       "    <tr>\n",
       "      <th>4</th>\n",
       "      <td>False</td>\n",
       "      <td>True</td>\n",
       "    </tr>\n",
       "    <tr>\n",
       "      <th>...</th>\n",
       "      <td>...</td>\n",
       "      <td>...</td>\n",
       "    </tr>\n",
       "    <tr>\n",
       "      <th>953</th>\n",
       "      <td>True</td>\n",
       "      <td>False</td>\n",
       "    </tr>\n",
       "    <tr>\n",
       "      <th>954</th>\n",
       "      <td>True</td>\n",
       "      <td>False</td>\n",
       "    </tr>\n",
       "    <tr>\n",
       "      <th>955</th>\n",
       "      <td>True</td>\n",
       "      <td>False</td>\n",
       "    </tr>\n",
       "    <tr>\n",
       "      <th>956</th>\n",
       "      <td>True</td>\n",
       "      <td>False</td>\n",
       "    </tr>\n",
       "    <tr>\n",
       "      <th>957</th>\n",
       "      <td>True</td>\n",
       "      <td>False</td>\n",
       "    </tr>\n",
       "  </tbody>\n",
       "</table>\n",
       "<p>958 rows × 2 columns</p>\n",
       "</div>"
      ],
      "text/plain": [
       "     class_negative  class_positive\n",
       "0             False            True\n",
       "1             False            True\n",
       "2             False            True\n",
       "3             False            True\n",
       "4             False            True\n",
       "..              ...             ...\n",
       "953            True           False\n",
       "954            True           False\n",
       "955            True           False\n",
       "956            True           False\n",
       "957            True           False\n",
       "\n",
       "[958 rows x 2 columns]"
      ]
     },
     "execution_count": 46,
     "metadata": {},
     "output_type": "execute_result"
    }
   ],
   "source": [
    "Y_FFNN"
   ]
  },
  {
   "cell_type": "code",
   "execution_count": 47,
   "id": "3d3184de965e20f8",
   "metadata": {},
   "outputs": [],
   "source": [
    "x_ffnn_train, x_ffnn_test, y_ffnn_train, y_ffnn_test = train_test_split(X_FFNN.values, Y_FFNN.values, test_size=0.3, random_state=42, stratify=Y_FFNN)"
   ]
  },
  {
   "cell_type": "markdown",
   "id": "b7a61a54ca7bf026",
   "metadata": {},
   "source": [
    "## SOM"
   ]
  },
  {
   "cell_type": "code",
   "execution_count": 48,
   "id": "c661f39cf3e0f222",
   "metadata": {},
   "outputs": [],
   "source": [
    "pd.set_option('future.no_silent_downcasting', True)\n",
    "X_SOM = pd.get_dummies(data.iloc[:, :-1].replace(['x', 'b', 'o'], [1, 0, -1])).values       # features\n",
    "Y_SOM = data.iloc[:, -1].replace('positive', 1).replace('negative', 0).values               # targets"
   ]
  },
  {
   "cell_type": "code",
   "execution_count": 49,
   "id": "8688d02f3aa08f24",
   "metadata": {},
   "outputs": [
    {
     "data": {
      "text/plain": [
       "array([[False, False,  True, ...,  True, False, False],\n",
       "       [False, False,  True, ...,  True, False, False],\n",
       "       [False, False,  True, ..., False, False,  True],\n",
       "       ...,\n",
       "       [ True, False, False, ..., False, False,  True],\n",
       "       [ True, False, False, ..., False, False,  True],\n",
       "       [ True, False, False, ..., False, False,  True]])"
      ]
     },
     "execution_count": 49,
     "metadata": {},
     "output_type": "execute_result"
    }
   ],
   "source": [
    "X_SOM"
   ]
  },
  {
   "cell_type": "code",
   "execution_count": 50,
   "id": "696c7b66fecd9ac9",
   "metadata": {},
   "outputs": [
    {
     "data": {
      "text/plain": [
       "array([1, 1, 1, 1, 1, 1, 1, 1, 1, 1, 1, 1, 1, 1, 1, 1, 1, 1, 1, 1, 1, 1,\n",
       "       1, 1, 1, 1, 1, 1, 1, 1, 1, 1, 1, 1, 1, 1, 1, 1, 1, 1, 1, 1, 1, 1,\n",
       "       1, 1, 1, 1, 1, 1, 1, 1, 1, 1, 1, 1, 1, 1, 1, 1, 1, 1, 1, 1, 1, 1,\n",
       "       1, 1, 1, 1, 1, 1, 1, 1, 1, 1, 1, 1, 1, 1, 1, 1, 1, 1, 1, 1, 1, 1,\n",
       "       1, 1, 1, 1, 1, 1, 1, 1, 1, 1, 1, 1, 1, 1, 1, 1, 1, 1, 1, 1, 1, 1,\n",
       "       1, 1, 1, 1, 1, 1, 1, 1, 1, 1, 1, 1, 1, 1, 1, 1, 1, 1, 1, 1, 1, 1,\n",
       "       1, 1, 1, 1, 1, 1, 1, 1, 1, 1, 1, 1, 1, 1, 1, 1, 1, 1, 1, 1, 1, 1,\n",
       "       1, 1, 1, 1, 1, 1, 1, 1, 1, 1, 1, 1, 1, 1, 1, 1, 1, 1, 1, 1, 1, 1,\n",
       "       1, 1, 1, 1, 1, 1, 1, 1, 1, 1, 1, 1, 1, 1, 1, 1, 1, 1, 1, 1, 1, 1,\n",
       "       1, 1, 1, 1, 1, 1, 1, 1, 1, 1, 1, 1, 1, 1, 1, 1, 1, 1, 1, 1, 1, 1,\n",
       "       1, 1, 1, 1, 1, 1, 1, 1, 1, 1, 1, 1, 1, 1, 1, 1, 1, 1, 1, 1, 1, 1,\n",
       "       1, 1, 1, 1, 1, 1, 1, 1, 1, 1, 1, 1, 1, 1, 1, 1, 1, 1, 1, 1, 1, 1,\n",
       "       1, 1, 1, 1, 1, 1, 1, 1, 1, 1, 1, 1, 1, 1, 1, 1, 1, 1, 1, 1, 1, 1,\n",
       "       1, 1, 1, 1, 1, 1, 1, 1, 1, 1, 1, 1, 1, 1, 1, 1, 1, 1, 1, 1, 1, 1,\n",
       "       1, 1, 1, 1, 1, 1, 1, 1, 1, 1, 1, 1, 1, 1, 1, 1, 1, 1, 1, 1, 1, 1,\n",
       "       1, 1, 1, 1, 1, 1, 1, 1, 1, 1, 1, 1, 1, 1, 1, 1, 1, 1, 1, 1, 1, 1,\n",
       "       1, 1, 1, 1, 1, 1, 1, 1, 1, 1, 1, 1, 1, 1, 1, 1, 1, 1, 1, 1, 1, 1,\n",
       "       1, 1, 1, 1, 1, 1, 1, 1, 1, 1, 1, 1, 1, 1, 1, 1, 1, 1, 1, 1, 1, 1,\n",
       "       1, 1, 1, 1, 1, 1, 1, 1, 1, 1, 1, 1, 1, 1, 1, 1, 1, 1, 1, 1, 1, 1,\n",
       "       1, 1, 1, 1, 1, 1, 1, 1, 1, 1, 1, 1, 1, 1, 1, 1, 1, 1, 1, 1, 1, 1,\n",
       "       1, 1, 1, 1, 1, 1, 1, 1, 1, 1, 1, 1, 1, 1, 1, 1, 1, 1, 1, 1, 1, 1,\n",
       "       1, 1, 1, 1, 1, 1, 1, 1, 1, 1, 1, 1, 1, 1, 1, 1, 1, 1, 1, 1, 1, 1,\n",
       "       1, 1, 1, 1, 1, 1, 1, 1, 1, 1, 1, 1, 1, 1, 1, 1, 1, 1, 1, 1, 1, 1,\n",
       "       1, 1, 1, 1, 1, 1, 1, 1, 1, 1, 1, 1, 1, 1, 1, 1, 1, 1, 1, 1, 1, 1,\n",
       "       1, 1, 1, 1, 1, 1, 1, 1, 1, 1, 1, 1, 1, 1, 1, 1, 1, 1, 1, 1, 1, 1,\n",
       "       1, 1, 1, 1, 1, 1, 1, 1, 1, 1, 1, 1, 1, 1, 1, 1, 1, 1, 1, 1, 1, 1,\n",
       "       1, 1, 1, 1, 1, 1, 1, 1, 1, 1, 1, 1, 1, 1, 1, 1, 1, 1, 1, 1, 1, 1,\n",
       "       1, 1, 1, 1, 1, 1, 1, 1, 1, 1, 1, 1, 1, 1, 1, 1, 1, 1, 1, 1, 1, 1,\n",
       "       1, 1, 1, 1, 1, 1, 1, 1, 1, 1, 0, 0, 0, 0, 0, 0, 0, 0, 0, 0, 0, 0,\n",
       "       0, 0, 0, 0, 0, 0, 0, 0, 0, 0, 0, 0, 0, 0, 0, 0, 0, 0, 0, 0, 0, 0,\n",
       "       0, 0, 0, 0, 0, 0, 0, 0, 0, 0, 0, 0, 0, 0, 0, 0, 0, 0, 0, 0, 0, 0,\n",
       "       0, 0, 0, 0, 0, 0, 0, 0, 0, 0, 0, 0, 0, 0, 0, 0, 0, 0, 0, 0, 0, 0,\n",
       "       0, 0, 0, 0, 0, 0, 0, 0, 0, 0, 0, 0, 0, 0, 0, 0, 0, 0, 0, 0, 0, 0,\n",
       "       0, 0, 0, 0, 0, 0, 0, 0, 0, 0, 0, 0, 0, 0, 0, 0, 0, 0, 0, 0, 0, 0,\n",
       "       0, 0, 0, 0, 0, 0, 0, 0, 0, 0, 0, 0, 0, 0, 0, 0, 0, 0, 0, 0, 0, 0,\n",
       "       0, 0, 0, 0, 0, 0, 0, 0, 0, 0, 0, 0, 0, 0, 0, 0, 0, 0, 0, 0, 0, 0,\n",
       "       0, 0, 0, 0, 0, 0, 0, 0, 0, 0, 0, 0, 0, 0, 0, 0, 0, 0, 0, 0, 0, 0,\n",
       "       0, 0, 0, 0, 0, 0, 0, 0, 0, 0, 0, 0, 0, 0, 0, 0, 0, 0, 0, 0, 0, 0,\n",
       "       0, 0, 0, 0, 0, 0, 0, 0, 0, 0, 0, 0, 0, 0, 0, 0, 0, 0, 0, 0, 0, 0,\n",
       "       0, 0, 0, 0, 0, 0, 0, 0, 0, 0, 0, 0, 0, 0, 0, 0, 0, 0, 0, 0, 0, 0,\n",
       "       0, 0, 0, 0, 0, 0, 0, 0, 0, 0, 0, 0, 0, 0, 0, 0, 0, 0, 0, 0, 0, 0,\n",
       "       0, 0, 0, 0, 0, 0, 0, 0, 0, 0, 0, 0, 0, 0, 0, 0, 0, 0, 0, 0, 0, 0,\n",
       "       0, 0, 0, 0, 0, 0, 0, 0, 0, 0, 0, 0, 0, 0, 0, 0, 0, 0, 0, 0, 0, 0,\n",
       "       0, 0, 0, 0, 0, 0, 0, 0, 0, 0, 0, 0], dtype=object)"
      ]
     },
     "execution_count": 50,
     "metadata": {},
     "output_type": "execute_result"
    }
   ],
   "source": [
    "Y_SOM"
   ]
  },
  {
   "cell_type": "code",
   "execution_count": 51,
   "id": "e45e66d104bfe91e",
   "metadata": {},
   "outputs": [],
   "source": [
    "x_som_train, x_som_test, y_som_train, y_som_test = train_test_split(X_SOM, Y_SOM, test_size=0.3, random_state=42, stratify=Y_SOM)"
   ]
  },
  {
   "cell_type": "markdown",
   "id": "d0d078484ff5e741",
   "metadata": {},
   "source": [
    "# **Network structure**"
   ]
  },
  {
   "cell_type": "markdown",
   "id": "ca9ec595f4690944",
   "metadata": {},
   "source": [
    "## FFNN\n",
    "\n",
    "Initial network configuration:\n",
    "\n",
    "- `27` neurons in input layer\n",
    "- `55` neurons in hidden layer\n",
    "- &nbsp;&nbsp;`2` neurons in output layer\n",
    "\n",
    "These values were chosen because:\n",
    "\n",
    "- There are `27` columns with independent variables\n",
    "- FFNN must have at least one hidden layer, with the number of neurons being at least `2N + 1` (`N` - size of the input)\n",
    "- There are `2` columns with labels\n",
    "\n",
    "For the remaining parameters, such as:\n",
    "\n",
    "- `epochs` - The number of complete passes through the entire training dataset during model training\n",
    "- `batch_size` - The number of samples processed simultaneously before updating the model's weights\n",
    "- `validation_split` - The portion of the training data used for validation to assess how well the model generalizes new data\n",
    "\n",
    "    Default (or commonly used) values were applied."
   ]
  },
  {
   "cell_type": "markdown",
   "id": "417a411fdd034e46",
   "metadata": {},
   "source": [
    "## SOM\n",
    "\n",
    "The Self-Organizing Map (SOM) network requires numerical input data to function correctly.\n",
    "This is because the SOM algorithm performs calculations such as computing the distance between the input vector and the output vectors.\n",
    "\n",
    "Fundamentally, SOM is an **unsupervised** learning method.\n",
    "This means it primarily works on input data and does not require target variables.\n",
    "However, due to the specifics of this project, the extraction of **Y** is required. This will be used later to evaluate the model's performance.\n",
    "\n",
    "When performing classification with the SOM network, selecting appropriate hyperparameters is crucial for achieving the highest possible classification accuracy.\n",
    "\n",
    "Let's take a look at what needs to be considered:\n",
    "\n",
    "- Width of the SOM grid\n",
    "- Height of the SOM grid\n",
    "- Number of elements in the input vector\n",
    "- Parameter defining the range of the neighborhood function\n",
    "- Initial learning rate\n",
    "- Function that determines how the learning rate decreases over time\n",
    "- Function defining how distances from the active neuron affect other neurons"
   ]
  },
  {
   "cell_type": "markdown",
   "id": "1ba6495f80b35271",
   "metadata": {},
   "source": [
    "# **Network training**"
   ]
  },
  {
   "cell_type": "markdown",
   "id": "4d58c659ea08191e",
   "metadata": {},
   "source": [
    "## FFNN\n",
    "\n",
    "To train the network, the following library functions from the **tensorflow.keras** module will be used:\n",
    "\n",
    "- **[compile()](https://www.tensorflow.org/api_docs/python/tf/keras/Model#compile)** - Configures the model for training\n",
    "- **[fit()](https://www.tensorflow.org/api_docs/python/tf/keras/Model#fit)** - Trains the model for a specified number of epochs\n",
    "- **[evaluate()](https://www.tensorflow.org/api_docs/python/tf/keras/Model#evaluate)** - Returns the value of the loss function and metric values for the model in test mode"
   ]
  },
  {
   "cell_type": "code",
   "execution_count": 52,
   "id": "3923df144b190d00",
   "metadata": {},
   "outputs": [],
   "source": [
    "def create_model(sequential, x_train, y_train, optimizer='adam', epochs=100, batch_size=32, validation_split=0.2,\n",
    "                 verbose=0):\n",
    "    model = sequential\n",
    "    model.compile(optimizer=optimizer, loss='categorical_crossentropy', metrics=['accuracy'])\n",
    "\n",
    "    history = model.fit(x_train,\n",
    "                        y_train,\n",
    "                        epochs=epochs,\n",
    "                        batch_size=batch_size,\n",
    "                        validation_split=validation_split,\n",
    "                        verbose=verbose)\n",
    "    return model, history"
   ]
  },
  {
   "cell_type": "code",
   "execution_count": 53,
   "id": "d58a023da3d1db54",
   "metadata": {},
   "outputs": [],
   "source": [
    "precision_metric = Precision()\n",
    "def evaluate_model(model, x_test, y_test, precision_metric, verbose=0):\n",
    "  test_loss, test_accuracy = model.evaluate(x_test, y_test, verbose=verbose)\n",
    "  precision_metric.update_state(y_test, model.predict(x_test))\n",
    "  return test_accuracy * 100, precision_metric.result().numpy() * 100"
   ]
  },
  {
   "cell_type": "markdown",
   "id": "3d65d425ef2addb4",
   "metadata": {},
   "source": [
    "To demonstrate the process of hyperparameter selection, several functions will be tested:\n",
    "\n",
    "- `sigmoid`\n",
    "- `tanh`\n",
    "- `relu`\n",
    "- `softplus`\n",
    "- `leaky_relu`\n",
    "- `softmax`"
   ]
  },
  {
   "cell_type": "code",
   "execution_count": 54,
   "id": "bec6bfaa7b4dde65",
   "metadata": {},
   "outputs": [
    {
     "name": "stdout",
     "output_type": "stream",
     "text": [
      "Training with 'sigmoid'...\n",
      "\u001b[1m9/9\u001b[0m \u001b[32m━━━━━━━━━━━━━━━━━━━━\u001b[0m\u001b[37m\u001b[0m \u001b[1m0s\u001b[0m 3ms/step \n",
      "Accuracy:   98.958\n",
      "Precision:  98.958\n",
      "\n",
      "Training with 'tanh'...\n",
      "\u001b[1m9/9\u001b[0m \u001b[32m━━━━━━━━━━━━━━━━━━━━\u001b[0m\u001b[37m\u001b[0m \u001b[1m0s\u001b[0m 3ms/step \n",
      "Accuracy:   26.736\n",
      "Precision:  98.962\n",
      "\n",
      "Training with 'relu'...\n",
      "\u001b[1m9/9\u001b[0m \u001b[32m━━━━━━━━━━━━━━━━━━━━\u001b[0m\u001b[37m\u001b[0m \u001b[1m0s\u001b[0m 3ms/step \n",
      "Accuracy:   34.722\n",
      "Precision:  98.962\n",
      "\n",
      "Training with 'softplus'...\n",
      "\u001b[1m9/9\u001b[0m \u001b[32m━━━━━━━━━━━━━━━━━━━━\u001b[0m\u001b[37m\u001b[0m \u001b[1m0s\u001b[0m 3ms/step \n",
      "Accuracy:   98.958\n",
      "Precision:  98.962\n",
      "\n",
      "Training with 'leaky_relu'...\n",
      "\u001b[1m9/9\u001b[0m \u001b[32m━━━━━━━━━━━━━━━━━━━━\u001b[0m\u001b[37m\u001b[0m \u001b[1m0s\u001b[0m 3ms/step \n",
      "Accuracy:   55.208\n",
      "Precision:  66.707\n",
      "\n",
      "Training with 'softmax'...\n",
      "\u001b[1m9/9\u001b[0m \u001b[32m━━━━━━━━━━━━━━━━━━━━\u001b[0m\u001b[37m\u001b[0m \u001b[1m0s\u001b[0m 3ms/step \n",
      "Accuracy:   90.278\n",
      "Precision:  72.801\n",
      "\n"
     ]
    }
   ],
   "source": [
    "activation_functions = ['sigmoid', 'tanh', 'relu', 'softplus', 'leaky_relu', 'softmax']\n",
    "for function in activation_functions:\n",
    "    print(f'Training with \\'{function}\\'...')\n",
    "    ffnn_sequential = Sequential([\n",
    "        Dense(27, activation=function),     # input\n",
    "        Dense(55, activation=function),     # hidden\n",
    "        Dense(2, activation=function)       # output\n",
    "    ])\n",
    "    \n",
    "    ffnn_model = create_model(ffnn_sequential, x_ffnn_train, y_ffnn_train)[0]\n",
    "    ffnn_accuracy, ffnn_precision = evaluate_model(ffnn_model, x_ffnn_test, y_ffnn_test, precision_metric)\n",
    "    print(f'Accuracy:  {ffnn_accuracy: .3f}')\n",
    "    print(f'Precision: {ffnn_precision: .3f}\\n')"
   ]
  },
  {
   "cell_type": "markdown",
   "id": "518a0033dcf09ec8",
   "metadata": {},
   "source": [
    "`Sigmoid` and `Softplus` achieved the best results in terms of accuracy and precision, indicating their suitability for the binary classification problem."
   ]
  },
  {
   "cell_type": "markdown",
   "id": "5ad26ad31bf206e9",
   "metadata": {},
   "source": [
    "## SOM\n",
    "\n",
    "Network training is based on the **MiniSom** library; the following functions will be used:\n",
    "\n",
    "- **labels_map()** - Assigns labels to each neuron based on the majority class of the input data points mapped to that neuron\n",
    "- **most_common()** - Returns the most common element and its frequency\n",
    "- **winner()** - Finds the best-matching unit (BMU) or winning neuron for a given input vector"
   ]
  },
  {
   "cell_type": "code",
   "execution_count": 55,
   "id": "9161f14c4287b52f",
   "metadata": {},
   "outputs": [],
   "source": [
    "def classify(model, x_train, x_test, y_train):\n",
    "    winmap = model.labels_map(x_train, y_train)\n",
    "    default_class = np.sum(list(winmap.values())).most_common()[0][0]\n",
    "    \n",
    "    result = []\n",
    "    for test in x_test:\n",
    "        win_position = model.winner(test)\n",
    "        if win_position in winmap:\n",
    "            result.append(winmap[win_position].most_common()[0][0])\n",
    "        else:\n",
    "            result.append(default_class)\n",
    "    return result"
   ]
  },
  {
   "cell_type": "markdown",
   "id": "d5e4bde858f8ef59",
   "metadata": {},
   "source": [
    "# **Parameter tuning**\n",
    "\n",
    "Further optimization of the hyperparameters may lead to an improvement in **precision** and **accuracy**; the best combination of input parameters will be sought."
   ]
  },
  {
   "cell_type": "markdown",
   "id": "df776fc7451424d",
   "metadata": {},
   "source": [
    "## FFNN"
   ]
  },
  {
   "cell_type": "code",
   "execution_count": 56,
   "id": "675d350b467337b9",
   "metadata": {},
   "outputs": [],
   "source": [
    "params = [\n",
    "    'input_activation',\n",
    "    'hidden_layers',\n",
    "    'hidden_neurons0',\n",
    "    'hidden_neurons1',\n",
    "    'hidden_neurons2',\n",
    "    'hidden_activation0',\n",
    "    'hidden_activation1',\n",
    "    'hidden_activation2',\n",
    "    'output_activation',\n",
    "    'optimizer',\n",
    "    'epochs',\n",
    "    'batch_size'\n",
    "]\n",
    "\n",
    "\n",
    "def tune_ffnn_params(trial, x_train=x_ffnn_train, x_test=x_ffnn_test, y_train=y_ffnn_train, y_test=y_ffnn_test,\n",
    "                     activation_functions=activation_functions):\n",
    "    # input\n",
    "    input_activation_function = trial.suggest_categorical('input_activation', activation_functions)\n",
    "    layers = [Dense(27, activation=input_activation_function)]\n",
    "\n",
    "    # hidden\n",
    "    hidden_layer_count = trial.suggest_int('hidden_layers', 1, 3)\n",
    "    for n in range(hidden_layer_count):\n",
    "        hidden_neuron_count = trial.suggest_categorical(f'hidden_neurons{n}', [4, 8, 16, 32, 64, 128, 256])\n",
    "        hidden_activation_function = trial.suggest_categorical(f'hidden_activation{n}', activation_functions)\n",
    "        layers.append(Dense(hidden_neuron_count, activation=hidden_activation_function))\n",
    "\n",
    "    # output\n",
    "    output_activation_function = trial.suggest_categorical('output_activation', activation_functions)\n",
    "    layers.append(Dense(2, activation=output_activation_function))\n",
    "\n",
    "    # compile\n",
    "    model = Sequential(layers)\n",
    "    optimizer = trial.suggest_categorical('optimizer', ['adam', 'rmsprop', 'sgd'])\n",
    "    model.compile(optimizer=optimizer, loss='binary_crossentropy', metrics=['accuracy'])\n",
    "\n",
    "    # train\n",
    "    epochs = trial.suggest_int('epochs', 20, 150)\n",
    "    batch_size = trial.suggest_categorical('batch_size', [32, 64, 128])\n",
    "    validation_split = 0.2\n",
    "    verbose = 0\n",
    "    model.fit(x_train, y_train, epochs=epochs, batch_size=batch_size, validation_split=validation_split,\n",
    "              verbose=verbose)\n",
    "\n",
    "    # evaluate\n",
    "    correct = 0\n",
    "    y_predicted = model.predict(x_test)\n",
    "    total = len(y_predicted)\n",
    "    for i, prediction in enumerate(y_predicted):\n",
    "        if np.argmax(y_test[i]) == np.argmax(prediction):\n",
    "            correct += 1\n",
    "\n",
    "    accuracy = (correct / total) * 100\n",
    "    return accuracy"
   ]
  },
  {
   "cell_type": "code",
   "execution_count": 57,
   "id": "19e2cfba6989f2c6",
   "metadata": {},
   "outputs": [
    {
     "data": {
      "application/vnd.jupyter.widget-view+json": {
       "model_id": "2d853e7ac3dd4f6eb4d6a1ff7b1d037a",
       "version_major": 2,
       "version_minor": 0
      },
      "text/plain": [
       "  0%|          | 0/100 [00:00<?, ?it/s]"
      ]
     },
     "metadata": {},
     "output_type": "display_data"
    }
   ],
   "source": [
    "%%capture --no-display\n",
    "FFNN_TRIALS = 100\n",
    "warnings.filterwarnings('ignore')\n",
    "optuna.logging.set_verbosity(optuna.logging.WARNING)\n",
    "ffnn_study = optuna.create_study(direction='maximize')\n",
    "ffnn_study.optimize(tune_ffnn_params, n_trials=FFNN_TRIALS, show_progress_bar=True)"
   ]
  },
  {
   "cell_type": "code",
   "execution_count": 58,
   "id": "7d05111d",
   "metadata": {},
   "outputs": [
    {
     "name": "stdout",
     "output_type": "stream",
     "text": [
      "Best trial:\n",
      "\tAccuracy:  98.958\n",
      "\tBest parameters: {'input_activation': 'sigmoid', 'hidden_layers': 1, 'hidden_neurons0': 128, 'hidden_activation0': 'tanh', 'output_activation': 'softplus', 'optimizer': 'adam', 'epochs': 95, 'batch_size': 64}\n"
     ]
    }
   ],
   "source": [
    "print('Best trial:')\n",
    "best_ffnn_trial = ffnn_study.best_trial\n",
    "print(f'\\tAccuracy: {best_ffnn_trial.value: .3f}')\n",
    "print(f'\\tBest parameters: {best_ffnn_trial.params}')"
   ]
  },
  {
   "cell_type": "code",
   "execution_count": 59,
   "id": "533bfc328e02a53b",
   "metadata": {},
   "outputs": [
    {
     "data": {
      "application/vnd.plotly.v1+json": {
       "config": {
        "plotlyServerURL": "https://plot.ly"
       },
       "data": [
        {
         "mode": "markers",
         "name": "Objective Value",
         "type": "scatter",
         "x": [
          0,
          1,
          2,
          3,
          4,
          5,
          6,
          7,
          8,
          9,
          10,
          11,
          12,
          13,
          14,
          15,
          16,
          17,
          18,
          19,
          20,
          21,
          22,
          23,
          24,
          25,
          26,
          27,
          28,
          29,
          30,
          31,
          32,
          33,
          34,
          35,
          36,
          37,
          38,
          39,
          40,
          41,
          42,
          43,
          44,
          45,
          46,
          47,
          48,
          49,
          50,
          51,
          52,
          53,
          54,
          55,
          56,
          57,
          58,
          59,
          60,
          61,
          62,
          63,
          64,
          65,
          66,
          67,
          68,
          69,
          70,
          71,
          72,
          73,
          74,
          75,
          76,
          77,
          78,
          79,
          80,
          81,
          82,
          83,
          84,
          85,
          86,
          87,
          88,
          89,
          90,
          91,
          92,
          93,
          94,
          95,
          96,
          97,
          98,
          99
         ],
         "y": [
          60.06944444444444,
          97.91666666666666,
          65.27777777777779,
          34.72222222222222,
          34.72222222222222,
          65.27777777777779,
          34.72222222222222,
          94.44444444444444,
          94.44444444444444,
          65.27777777777779,
          98.61111111111111,
          97.91666666666666,
          76.04166666666666,
          73.26388888888889,
          97.91666666666666,
          98.61111111111111,
          98.61111111111111,
          98.95833333333334,
          98.95833333333334,
          77.08333333333334,
          93.05555555555556,
          96.52777777777779,
          56.25,
          65.27777777777779,
          97.56944444444444,
          76.04166666666666,
          97.22222222222221,
          97.56944444444444,
          65.27777777777779,
          97.91666666666666,
          65.27777777777779,
          98.26388888888889,
          98.95833333333334,
          98.95833333333334,
          98.26388888888889,
          87.84722222222221,
          98.95833333333334,
          65.27777777777779,
          95.13888888888889,
          34.72222222222222,
          98.26388888888889,
          65.27777777777779,
          98.95833333333334,
          84.02777777777779,
          98.95833333333334,
          97.91666666666666,
          65.27777777777779,
          34.72222222222222,
          97.91666666666666,
          92.01388888888889,
          95.13888888888889,
          98.95833333333334,
          98.61111111111111,
          98.95833333333334,
          98.61111111111111,
          98.95833333333334,
          79.86111111111111,
          34.72222222222222,
          98.95833333333334,
          34.72222222222222,
          65.27777777777779,
          92.70833333333334,
          98.95833333333334,
          98.95833333333334,
          98.95833333333334,
          66.66666666666666,
          84.72222222222221,
          96.875,
          98.95833333333334,
          78.81944444444444,
          65.27777777777779,
          98.95833333333334,
          98.95833333333334,
          98.95833333333334,
          98.61111111111111,
          98.26388888888889,
          65.27777777777779,
          98.95833333333334,
          34.72222222222222,
          97.91666666666666,
          34.72222222222222,
          98.61111111111111,
          98.95833333333334,
          98.95833333333334,
          98.95833333333334,
          97.22222222222221,
          75.34722222222221,
          98.26388888888889,
          81.25,
          98.95833333333334,
          78.47222222222221,
          98.26388888888889,
          98.95833333333334,
          98.95833333333334,
          97.56944444444444,
          98.95833333333334,
          65.27777777777779,
          98.95833333333334,
          91.66666666666666,
          34.72222222222222
         ]
        },
        {
         "mode": "lines",
         "name": "Best Value",
         "type": "scatter",
         "x": [
          0,
          1,
          2,
          3,
          4,
          5,
          6,
          7,
          8,
          9,
          10,
          11,
          12,
          13,
          14,
          15,
          16,
          17,
          18,
          19,
          20,
          21,
          22,
          23,
          24,
          25,
          26,
          27,
          28,
          29,
          30,
          31,
          32,
          33,
          34,
          35,
          36,
          37,
          38,
          39,
          40,
          41,
          42,
          43,
          44,
          45,
          46,
          47,
          48,
          49,
          50,
          51,
          52,
          53,
          54,
          55,
          56,
          57,
          58,
          59,
          60,
          61,
          62,
          63,
          64,
          65,
          66,
          67,
          68,
          69,
          70,
          71,
          72,
          73,
          74,
          75,
          76,
          77,
          78,
          79,
          80,
          81,
          82,
          83,
          84,
          85,
          86,
          87,
          88,
          89,
          90,
          91,
          92,
          93,
          94,
          95,
          96,
          97,
          98,
          99
         ],
         "y": [
          60.06944444444444,
          97.91666666666666,
          97.91666666666666,
          97.91666666666666,
          97.91666666666666,
          97.91666666666666,
          97.91666666666666,
          97.91666666666666,
          97.91666666666666,
          97.91666666666666,
          98.61111111111111,
          98.61111111111111,
          98.61111111111111,
          98.61111111111111,
          98.61111111111111,
          98.61111111111111,
          98.61111111111111,
          98.95833333333334,
          98.95833333333334,
          98.95833333333334,
          98.95833333333334,
          98.95833333333334,
          98.95833333333334,
          98.95833333333334,
          98.95833333333334,
          98.95833333333334,
          98.95833333333334,
          98.95833333333334,
          98.95833333333334,
          98.95833333333334,
          98.95833333333334,
          98.95833333333334,
          98.95833333333334,
          98.95833333333334,
          98.95833333333334,
          98.95833333333334,
          98.95833333333334,
          98.95833333333334,
          98.95833333333334,
          98.95833333333334,
          98.95833333333334,
          98.95833333333334,
          98.95833333333334,
          98.95833333333334,
          98.95833333333334,
          98.95833333333334,
          98.95833333333334,
          98.95833333333334,
          98.95833333333334,
          98.95833333333334,
          98.95833333333334,
          98.95833333333334,
          98.95833333333334,
          98.95833333333334,
          98.95833333333334,
          98.95833333333334,
          98.95833333333334,
          98.95833333333334,
          98.95833333333334,
          98.95833333333334,
          98.95833333333334,
          98.95833333333334,
          98.95833333333334,
          98.95833333333334,
          98.95833333333334,
          98.95833333333334,
          98.95833333333334,
          98.95833333333334,
          98.95833333333334,
          98.95833333333334,
          98.95833333333334,
          98.95833333333334,
          98.95833333333334,
          98.95833333333334,
          98.95833333333334,
          98.95833333333334,
          98.95833333333334,
          98.95833333333334,
          98.95833333333334,
          98.95833333333334,
          98.95833333333334,
          98.95833333333334,
          98.95833333333334,
          98.95833333333334,
          98.95833333333334,
          98.95833333333334,
          98.95833333333334,
          98.95833333333334,
          98.95833333333334,
          98.95833333333334,
          98.95833333333334,
          98.95833333333334,
          98.95833333333334,
          98.95833333333334,
          98.95833333333334,
          98.95833333333334,
          98.95833333333334,
          98.95833333333334,
          98.95833333333334,
          98.95833333333334
         ]
        },
        {
         "marker": {
          "color": "#cccccc"
         },
         "mode": "markers",
         "name": "Infeasible Trial",
         "showlegend": false,
         "type": "scatter",
         "x": [],
         "y": []
        }
       ],
       "layout": {
        "template": {
         "data": {
          "bar": [
           {
            "error_x": {
             "color": "#2a3f5f"
            },
            "error_y": {
             "color": "#2a3f5f"
            },
            "marker": {
             "line": {
              "color": "#E5ECF6",
              "width": 0.5
             },
             "pattern": {
              "fillmode": "overlay",
              "size": 10,
              "solidity": 0.2
             }
            },
            "type": "bar"
           }
          ],
          "barpolar": [
           {
            "marker": {
             "line": {
              "color": "#E5ECF6",
              "width": 0.5
             },
             "pattern": {
              "fillmode": "overlay",
              "size": 10,
              "solidity": 0.2
             }
            },
            "type": "barpolar"
           }
          ],
          "carpet": [
           {
            "aaxis": {
             "endlinecolor": "#2a3f5f",
             "gridcolor": "white",
             "linecolor": "white",
             "minorgridcolor": "white",
             "startlinecolor": "#2a3f5f"
            },
            "baxis": {
             "endlinecolor": "#2a3f5f",
             "gridcolor": "white",
             "linecolor": "white",
             "minorgridcolor": "white",
             "startlinecolor": "#2a3f5f"
            },
            "type": "carpet"
           }
          ],
          "choropleth": [
           {
            "colorbar": {
             "outlinewidth": 0,
             "ticks": ""
            },
            "type": "choropleth"
           }
          ],
          "contour": [
           {
            "colorbar": {
             "outlinewidth": 0,
             "ticks": ""
            },
            "colorscale": [
             [
              0,
              "#0d0887"
             ],
             [
              0.1111111111111111,
              "#46039f"
             ],
             [
              0.2222222222222222,
              "#7201a8"
             ],
             [
              0.3333333333333333,
              "#9c179e"
             ],
             [
              0.4444444444444444,
              "#bd3786"
             ],
             [
              0.5555555555555556,
              "#d8576b"
             ],
             [
              0.6666666666666666,
              "#ed7953"
             ],
             [
              0.7777777777777778,
              "#fb9f3a"
             ],
             [
              0.8888888888888888,
              "#fdca26"
             ],
             [
              1,
              "#f0f921"
             ]
            ],
            "type": "contour"
           }
          ],
          "contourcarpet": [
           {
            "colorbar": {
             "outlinewidth": 0,
             "ticks": ""
            },
            "type": "contourcarpet"
           }
          ],
          "heatmap": [
           {
            "colorbar": {
             "outlinewidth": 0,
             "ticks": ""
            },
            "colorscale": [
             [
              0,
              "#0d0887"
             ],
             [
              0.1111111111111111,
              "#46039f"
             ],
             [
              0.2222222222222222,
              "#7201a8"
             ],
             [
              0.3333333333333333,
              "#9c179e"
             ],
             [
              0.4444444444444444,
              "#bd3786"
             ],
             [
              0.5555555555555556,
              "#d8576b"
             ],
             [
              0.6666666666666666,
              "#ed7953"
             ],
             [
              0.7777777777777778,
              "#fb9f3a"
             ],
             [
              0.8888888888888888,
              "#fdca26"
             ],
             [
              1,
              "#f0f921"
             ]
            ],
            "type": "heatmap"
           }
          ],
          "heatmapgl": [
           {
            "colorbar": {
             "outlinewidth": 0,
             "ticks": ""
            },
            "colorscale": [
             [
              0,
              "#0d0887"
             ],
             [
              0.1111111111111111,
              "#46039f"
             ],
             [
              0.2222222222222222,
              "#7201a8"
             ],
             [
              0.3333333333333333,
              "#9c179e"
             ],
             [
              0.4444444444444444,
              "#bd3786"
             ],
             [
              0.5555555555555556,
              "#d8576b"
             ],
             [
              0.6666666666666666,
              "#ed7953"
             ],
             [
              0.7777777777777778,
              "#fb9f3a"
             ],
             [
              0.8888888888888888,
              "#fdca26"
             ],
             [
              1,
              "#f0f921"
             ]
            ],
            "type": "heatmapgl"
           }
          ],
          "histogram": [
           {
            "marker": {
             "pattern": {
              "fillmode": "overlay",
              "size": 10,
              "solidity": 0.2
             }
            },
            "type": "histogram"
           }
          ],
          "histogram2d": [
           {
            "colorbar": {
             "outlinewidth": 0,
             "ticks": ""
            },
            "colorscale": [
             [
              0,
              "#0d0887"
             ],
             [
              0.1111111111111111,
              "#46039f"
             ],
             [
              0.2222222222222222,
              "#7201a8"
             ],
             [
              0.3333333333333333,
              "#9c179e"
             ],
             [
              0.4444444444444444,
              "#bd3786"
             ],
             [
              0.5555555555555556,
              "#d8576b"
             ],
             [
              0.6666666666666666,
              "#ed7953"
             ],
             [
              0.7777777777777778,
              "#fb9f3a"
             ],
             [
              0.8888888888888888,
              "#fdca26"
             ],
             [
              1,
              "#f0f921"
             ]
            ],
            "type": "histogram2d"
           }
          ],
          "histogram2dcontour": [
           {
            "colorbar": {
             "outlinewidth": 0,
             "ticks": ""
            },
            "colorscale": [
             [
              0,
              "#0d0887"
             ],
             [
              0.1111111111111111,
              "#46039f"
             ],
             [
              0.2222222222222222,
              "#7201a8"
             ],
             [
              0.3333333333333333,
              "#9c179e"
             ],
             [
              0.4444444444444444,
              "#bd3786"
             ],
             [
              0.5555555555555556,
              "#d8576b"
             ],
             [
              0.6666666666666666,
              "#ed7953"
             ],
             [
              0.7777777777777778,
              "#fb9f3a"
             ],
             [
              0.8888888888888888,
              "#fdca26"
             ],
             [
              1,
              "#f0f921"
             ]
            ],
            "type": "histogram2dcontour"
           }
          ],
          "mesh3d": [
           {
            "colorbar": {
             "outlinewidth": 0,
             "ticks": ""
            },
            "type": "mesh3d"
           }
          ],
          "parcoords": [
           {
            "line": {
             "colorbar": {
              "outlinewidth": 0,
              "ticks": ""
             }
            },
            "type": "parcoords"
           }
          ],
          "pie": [
           {
            "automargin": true,
            "type": "pie"
           }
          ],
          "scatter": [
           {
            "fillpattern": {
             "fillmode": "overlay",
             "size": 10,
             "solidity": 0.2
            },
            "type": "scatter"
           }
          ],
          "scatter3d": [
           {
            "line": {
             "colorbar": {
              "outlinewidth": 0,
              "ticks": ""
             }
            },
            "marker": {
             "colorbar": {
              "outlinewidth": 0,
              "ticks": ""
             }
            },
            "type": "scatter3d"
           }
          ],
          "scattercarpet": [
           {
            "marker": {
             "colorbar": {
              "outlinewidth": 0,
              "ticks": ""
             }
            },
            "type": "scattercarpet"
           }
          ],
          "scattergeo": [
           {
            "marker": {
             "colorbar": {
              "outlinewidth": 0,
              "ticks": ""
             }
            },
            "type": "scattergeo"
           }
          ],
          "scattergl": [
           {
            "marker": {
             "colorbar": {
              "outlinewidth": 0,
              "ticks": ""
             }
            },
            "type": "scattergl"
           }
          ],
          "scattermapbox": [
           {
            "marker": {
             "colorbar": {
              "outlinewidth": 0,
              "ticks": ""
             }
            },
            "type": "scattermapbox"
           }
          ],
          "scatterpolar": [
           {
            "marker": {
             "colorbar": {
              "outlinewidth": 0,
              "ticks": ""
             }
            },
            "type": "scatterpolar"
           }
          ],
          "scatterpolargl": [
           {
            "marker": {
             "colorbar": {
              "outlinewidth": 0,
              "ticks": ""
             }
            },
            "type": "scatterpolargl"
           }
          ],
          "scatterternary": [
           {
            "marker": {
             "colorbar": {
              "outlinewidth": 0,
              "ticks": ""
             }
            },
            "type": "scatterternary"
           }
          ],
          "surface": [
           {
            "colorbar": {
             "outlinewidth": 0,
             "ticks": ""
            },
            "colorscale": [
             [
              0,
              "#0d0887"
             ],
             [
              0.1111111111111111,
              "#46039f"
             ],
             [
              0.2222222222222222,
              "#7201a8"
             ],
             [
              0.3333333333333333,
              "#9c179e"
             ],
             [
              0.4444444444444444,
              "#bd3786"
             ],
             [
              0.5555555555555556,
              "#d8576b"
             ],
             [
              0.6666666666666666,
              "#ed7953"
             ],
             [
              0.7777777777777778,
              "#fb9f3a"
             ],
             [
              0.8888888888888888,
              "#fdca26"
             ],
             [
              1,
              "#f0f921"
             ]
            ],
            "type": "surface"
           }
          ],
          "table": [
           {
            "cells": {
             "fill": {
              "color": "#EBF0F8"
             },
             "line": {
              "color": "white"
             }
            },
            "header": {
             "fill": {
              "color": "#C8D4E3"
             },
             "line": {
              "color": "white"
             }
            },
            "type": "table"
           }
          ]
         },
         "layout": {
          "annotationdefaults": {
           "arrowcolor": "#2a3f5f",
           "arrowhead": 0,
           "arrowwidth": 1
          },
          "autotypenumbers": "strict",
          "coloraxis": {
           "colorbar": {
            "outlinewidth": 0,
            "ticks": ""
           }
          },
          "colorscale": {
           "diverging": [
            [
             0,
             "#8e0152"
            ],
            [
             0.1,
             "#c51b7d"
            ],
            [
             0.2,
             "#de77ae"
            ],
            [
             0.3,
             "#f1b6da"
            ],
            [
             0.4,
             "#fde0ef"
            ],
            [
             0.5,
             "#f7f7f7"
            ],
            [
             0.6,
             "#e6f5d0"
            ],
            [
             0.7,
             "#b8e186"
            ],
            [
             0.8,
             "#7fbc41"
            ],
            [
             0.9,
             "#4d9221"
            ],
            [
             1,
             "#276419"
            ]
           ],
           "sequential": [
            [
             0,
             "#0d0887"
            ],
            [
             0.1111111111111111,
             "#46039f"
            ],
            [
             0.2222222222222222,
             "#7201a8"
            ],
            [
             0.3333333333333333,
             "#9c179e"
            ],
            [
             0.4444444444444444,
             "#bd3786"
            ],
            [
             0.5555555555555556,
             "#d8576b"
            ],
            [
             0.6666666666666666,
             "#ed7953"
            ],
            [
             0.7777777777777778,
             "#fb9f3a"
            ],
            [
             0.8888888888888888,
             "#fdca26"
            ],
            [
             1,
             "#f0f921"
            ]
           ],
           "sequentialminus": [
            [
             0,
             "#0d0887"
            ],
            [
             0.1111111111111111,
             "#46039f"
            ],
            [
             0.2222222222222222,
             "#7201a8"
            ],
            [
             0.3333333333333333,
             "#9c179e"
            ],
            [
             0.4444444444444444,
             "#bd3786"
            ],
            [
             0.5555555555555556,
             "#d8576b"
            ],
            [
             0.6666666666666666,
             "#ed7953"
            ],
            [
             0.7777777777777778,
             "#fb9f3a"
            ],
            [
             0.8888888888888888,
             "#fdca26"
            ],
            [
             1,
             "#f0f921"
            ]
           ]
          },
          "colorway": [
           "#636efa",
           "#EF553B",
           "#00cc96",
           "#ab63fa",
           "#FFA15A",
           "#19d3f3",
           "#FF6692",
           "#B6E880",
           "#FF97FF",
           "#FECB52"
          ],
          "font": {
           "color": "#2a3f5f"
          },
          "geo": {
           "bgcolor": "white",
           "lakecolor": "white",
           "landcolor": "#E5ECF6",
           "showlakes": true,
           "showland": true,
           "subunitcolor": "white"
          },
          "hoverlabel": {
           "align": "left"
          },
          "hovermode": "closest",
          "mapbox": {
           "style": "light"
          },
          "paper_bgcolor": "white",
          "plot_bgcolor": "#E5ECF6",
          "polar": {
           "angularaxis": {
            "gridcolor": "white",
            "linecolor": "white",
            "ticks": ""
           },
           "bgcolor": "#E5ECF6",
           "radialaxis": {
            "gridcolor": "white",
            "linecolor": "white",
            "ticks": ""
           }
          },
          "scene": {
           "xaxis": {
            "backgroundcolor": "#E5ECF6",
            "gridcolor": "white",
            "gridwidth": 2,
            "linecolor": "white",
            "showbackground": true,
            "ticks": "",
            "zerolinecolor": "white"
           },
           "yaxis": {
            "backgroundcolor": "#E5ECF6",
            "gridcolor": "white",
            "gridwidth": 2,
            "linecolor": "white",
            "showbackground": true,
            "ticks": "",
            "zerolinecolor": "white"
           },
           "zaxis": {
            "backgroundcolor": "#E5ECF6",
            "gridcolor": "white",
            "gridwidth": 2,
            "linecolor": "white",
            "showbackground": true,
            "ticks": "",
            "zerolinecolor": "white"
           }
          },
          "shapedefaults": {
           "line": {
            "color": "#2a3f5f"
           }
          },
          "ternary": {
           "aaxis": {
            "gridcolor": "white",
            "linecolor": "white",
            "ticks": ""
           },
           "baxis": {
            "gridcolor": "white",
            "linecolor": "white",
            "ticks": ""
           },
           "bgcolor": "#E5ECF6",
           "caxis": {
            "gridcolor": "white",
            "linecolor": "white",
            "ticks": ""
           }
          },
          "title": {
           "x": 0.05
          },
          "xaxis": {
           "automargin": true,
           "gridcolor": "white",
           "linecolor": "white",
           "ticks": "",
           "title": {
            "standoff": 15
           },
           "zerolinecolor": "white",
           "zerolinewidth": 2
          },
          "yaxis": {
           "automargin": true,
           "gridcolor": "white",
           "linecolor": "white",
           "ticks": "",
           "title": {
            "standoff": 15
           },
           "zerolinecolor": "white",
           "zerolinewidth": 2
          }
         }
        },
        "title": {
         "text": "Optimization History Plot"
        },
        "xaxis": {
         "title": {
          "text": "Trial"
         }
        },
        "yaxis": {
         "title": {
          "text": "Objective Value"
         }
        }
       }
      }
     },
     "metadata": {},
     "output_type": "display_data"
    }
   ],
   "source": [
    "fig = optuna.visualization.plot_optimization_history(ffnn_study)\n",
    "show(fig)"
   ]
  },
  {
   "cell_type": "code",
   "execution_count": 60,
   "id": "f0e045032c25858d",
   "metadata": {},
   "outputs": [
    {
     "data": {
      "application/vnd.plotly.v1+json": {
       "config": {
        "plotlyServerURL": "https://plot.ly"
       },
       "data": [
        {
         "cliponaxis": false,
         "hovertemplate": [
          "hidden_layers (IntDistribution): 0.0<extra></extra>",
          "batch_size (CategoricalDistribution): 0.004103171306812392<extra></extra>",
          "hidden_neurons1 (CategoricalDistribution): 0.005138340610206762<extra></extra>",
          "output_activation (CategoricalDistribution): 0.010804990395893017<extra></extra>",
          "input_activation (CategoricalDistribution): 0.021610605237755102<extra></extra>",
          "hidden_activation0 (CategoricalDistribution): 0.03214516062802716<extra></extra>",
          "hidden_activation2 (CategoricalDistribution): 0.05330343654893607<extra></extra>",
          "hidden_neurons0 (CategoricalDistribution): 0.06279897551437703<extra></extra>",
          "epochs (IntDistribution): 0.11001342081341811<extra></extra>",
          "hidden_neurons2 (CategoricalDistribution): 0.17637928447028595<extra></extra>",
          "hidden_activation1 (CategoricalDistribution): 0.1923020438153501<extra></extra>",
          "optimizer (CategoricalDistribution): 0.3314005706589383<extra></extra>"
         ],
         "name": "Objective Value",
         "orientation": "h",
         "text": [
          "<0.01",
          "<0.01",
          "<0.01",
          "0.01",
          "0.02",
          "0.03",
          "0.05",
          "0.06",
          "0.11",
          "0.18",
          "0.19",
          "0.33"
         ],
         "textposition": "outside",
         "type": "bar",
         "x": [
          0,
          0.004103171306812392,
          0.005138340610206762,
          0.010804990395893017,
          0.021610605237755102,
          0.03214516062802716,
          0.05330343654893607,
          0.06279897551437703,
          0.11001342081341811,
          0.17637928447028595,
          0.1923020438153501,
          0.3314005706589383
         ],
         "y": [
          "hidden_layers",
          "batch_size",
          "hidden_neurons1",
          "output_activation",
          "input_activation",
          "hidden_activation0",
          "hidden_activation2",
          "hidden_neurons0",
          "epochs",
          "hidden_neurons2",
          "hidden_activation1",
          "optimizer"
         ]
        }
       ],
       "layout": {
        "template": {
         "data": {
          "bar": [
           {
            "error_x": {
             "color": "#2a3f5f"
            },
            "error_y": {
             "color": "#2a3f5f"
            },
            "marker": {
             "line": {
              "color": "#E5ECF6",
              "width": 0.5
             },
             "pattern": {
              "fillmode": "overlay",
              "size": 10,
              "solidity": 0.2
             }
            },
            "type": "bar"
           }
          ],
          "barpolar": [
           {
            "marker": {
             "line": {
              "color": "#E5ECF6",
              "width": 0.5
             },
             "pattern": {
              "fillmode": "overlay",
              "size": 10,
              "solidity": 0.2
             }
            },
            "type": "barpolar"
           }
          ],
          "carpet": [
           {
            "aaxis": {
             "endlinecolor": "#2a3f5f",
             "gridcolor": "white",
             "linecolor": "white",
             "minorgridcolor": "white",
             "startlinecolor": "#2a3f5f"
            },
            "baxis": {
             "endlinecolor": "#2a3f5f",
             "gridcolor": "white",
             "linecolor": "white",
             "minorgridcolor": "white",
             "startlinecolor": "#2a3f5f"
            },
            "type": "carpet"
           }
          ],
          "choropleth": [
           {
            "colorbar": {
             "outlinewidth": 0,
             "ticks": ""
            },
            "type": "choropleth"
           }
          ],
          "contour": [
           {
            "colorbar": {
             "outlinewidth": 0,
             "ticks": ""
            },
            "colorscale": [
             [
              0,
              "#0d0887"
             ],
             [
              0.1111111111111111,
              "#46039f"
             ],
             [
              0.2222222222222222,
              "#7201a8"
             ],
             [
              0.3333333333333333,
              "#9c179e"
             ],
             [
              0.4444444444444444,
              "#bd3786"
             ],
             [
              0.5555555555555556,
              "#d8576b"
             ],
             [
              0.6666666666666666,
              "#ed7953"
             ],
             [
              0.7777777777777778,
              "#fb9f3a"
             ],
             [
              0.8888888888888888,
              "#fdca26"
             ],
             [
              1,
              "#f0f921"
             ]
            ],
            "type": "contour"
           }
          ],
          "contourcarpet": [
           {
            "colorbar": {
             "outlinewidth": 0,
             "ticks": ""
            },
            "type": "contourcarpet"
           }
          ],
          "heatmap": [
           {
            "colorbar": {
             "outlinewidth": 0,
             "ticks": ""
            },
            "colorscale": [
             [
              0,
              "#0d0887"
             ],
             [
              0.1111111111111111,
              "#46039f"
             ],
             [
              0.2222222222222222,
              "#7201a8"
             ],
             [
              0.3333333333333333,
              "#9c179e"
             ],
             [
              0.4444444444444444,
              "#bd3786"
             ],
             [
              0.5555555555555556,
              "#d8576b"
             ],
             [
              0.6666666666666666,
              "#ed7953"
             ],
             [
              0.7777777777777778,
              "#fb9f3a"
             ],
             [
              0.8888888888888888,
              "#fdca26"
             ],
             [
              1,
              "#f0f921"
             ]
            ],
            "type": "heatmap"
           }
          ],
          "heatmapgl": [
           {
            "colorbar": {
             "outlinewidth": 0,
             "ticks": ""
            },
            "colorscale": [
             [
              0,
              "#0d0887"
             ],
             [
              0.1111111111111111,
              "#46039f"
             ],
             [
              0.2222222222222222,
              "#7201a8"
             ],
             [
              0.3333333333333333,
              "#9c179e"
             ],
             [
              0.4444444444444444,
              "#bd3786"
             ],
             [
              0.5555555555555556,
              "#d8576b"
             ],
             [
              0.6666666666666666,
              "#ed7953"
             ],
             [
              0.7777777777777778,
              "#fb9f3a"
             ],
             [
              0.8888888888888888,
              "#fdca26"
             ],
             [
              1,
              "#f0f921"
             ]
            ],
            "type": "heatmapgl"
           }
          ],
          "histogram": [
           {
            "marker": {
             "pattern": {
              "fillmode": "overlay",
              "size": 10,
              "solidity": 0.2
             }
            },
            "type": "histogram"
           }
          ],
          "histogram2d": [
           {
            "colorbar": {
             "outlinewidth": 0,
             "ticks": ""
            },
            "colorscale": [
             [
              0,
              "#0d0887"
             ],
             [
              0.1111111111111111,
              "#46039f"
             ],
             [
              0.2222222222222222,
              "#7201a8"
             ],
             [
              0.3333333333333333,
              "#9c179e"
             ],
             [
              0.4444444444444444,
              "#bd3786"
             ],
             [
              0.5555555555555556,
              "#d8576b"
             ],
             [
              0.6666666666666666,
              "#ed7953"
             ],
             [
              0.7777777777777778,
              "#fb9f3a"
             ],
             [
              0.8888888888888888,
              "#fdca26"
             ],
             [
              1,
              "#f0f921"
             ]
            ],
            "type": "histogram2d"
           }
          ],
          "histogram2dcontour": [
           {
            "colorbar": {
             "outlinewidth": 0,
             "ticks": ""
            },
            "colorscale": [
             [
              0,
              "#0d0887"
             ],
             [
              0.1111111111111111,
              "#46039f"
             ],
             [
              0.2222222222222222,
              "#7201a8"
             ],
             [
              0.3333333333333333,
              "#9c179e"
             ],
             [
              0.4444444444444444,
              "#bd3786"
             ],
             [
              0.5555555555555556,
              "#d8576b"
             ],
             [
              0.6666666666666666,
              "#ed7953"
             ],
             [
              0.7777777777777778,
              "#fb9f3a"
             ],
             [
              0.8888888888888888,
              "#fdca26"
             ],
             [
              1,
              "#f0f921"
             ]
            ],
            "type": "histogram2dcontour"
           }
          ],
          "mesh3d": [
           {
            "colorbar": {
             "outlinewidth": 0,
             "ticks": ""
            },
            "type": "mesh3d"
           }
          ],
          "parcoords": [
           {
            "line": {
             "colorbar": {
              "outlinewidth": 0,
              "ticks": ""
             }
            },
            "type": "parcoords"
           }
          ],
          "pie": [
           {
            "automargin": true,
            "type": "pie"
           }
          ],
          "scatter": [
           {
            "fillpattern": {
             "fillmode": "overlay",
             "size": 10,
             "solidity": 0.2
            },
            "type": "scatter"
           }
          ],
          "scatter3d": [
           {
            "line": {
             "colorbar": {
              "outlinewidth": 0,
              "ticks": ""
             }
            },
            "marker": {
             "colorbar": {
              "outlinewidth": 0,
              "ticks": ""
             }
            },
            "type": "scatter3d"
           }
          ],
          "scattercarpet": [
           {
            "marker": {
             "colorbar": {
              "outlinewidth": 0,
              "ticks": ""
             }
            },
            "type": "scattercarpet"
           }
          ],
          "scattergeo": [
           {
            "marker": {
             "colorbar": {
              "outlinewidth": 0,
              "ticks": ""
             }
            },
            "type": "scattergeo"
           }
          ],
          "scattergl": [
           {
            "marker": {
             "colorbar": {
              "outlinewidth": 0,
              "ticks": ""
             }
            },
            "type": "scattergl"
           }
          ],
          "scattermapbox": [
           {
            "marker": {
             "colorbar": {
              "outlinewidth": 0,
              "ticks": ""
             }
            },
            "type": "scattermapbox"
           }
          ],
          "scatterpolar": [
           {
            "marker": {
             "colorbar": {
              "outlinewidth": 0,
              "ticks": ""
             }
            },
            "type": "scatterpolar"
           }
          ],
          "scatterpolargl": [
           {
            "marker": {
             "colorbar": {
              "outlinewidth": 0,
              "ticks": ""
             }
            },
            "type": "scatterpolargl"
           }
          ],
          "scatterternary": [
           {
            "marker": {
             "colorbar": {
              "outlinewidth": 0,
              "ticks": ""
             }
            },
            "type": "scatterternary"
           }
          ],
          "surface": [
           {
            "colorbar": {
             "outlinewidth": 0,
             "ticks": ""
            },
            "colorscale": [
             [
              0,
              "#0d0887"
             ],
             [
              0.1111111111111111,
              "#46039f"
             ],
             [
              0.2222222222222222,
              "#7201a8"
             ],
             [
              0.3333333333333333,
              "#9c179e"
             ],
             [
              0.4444444444444444,
              "#bd3786"
             ],
             [
              0.5555555555555556,
              "#d8576b"
             ],
             [
              0.6666666666666666,
              "#ed7953"
             ],
             [
              0.7777777777777778,
              "#fb9f3a"
             ],
             [
              0.8888888888888888,
              "#fdca26"
             ],
             [
              1,
              "#f0f921"
             ]
            ],
            "type": "surface"
           }
          ],
          "table": [
           {
            "cells": {
             "fill": {
              "color": "#EBF0F8"
             },
             "line": {
              "color": "white"
             }
            },
            "header": {
             "fill": {
              "color": "#C8D4E3"
             },
             "line": {
              "color": "white"
             }
            },
            "type": "table"
           }
          ]
         },
         "layout": {
          "annotationdefaults": {
           "arrowcolor": "#2a3f5f",
           "arrowhead": 0,
           "arrowwidth": 1
          },
          "autotypenumbers": "strict",
          "coloraxis": {
           "colorbar": {
            "outlinewidth": 0,
            "ticks": ""
           }
          },
          "colorscale": {
           "diverging": [
            [
             0,
             "#8e0152"
            ],
            [
             0.1,
             "#c51b7d"
            ],
            [
             0.2,
             "#de77ae"
            ],
            [
             0.3,
             "#f1b6da"
            ],
            [
             0.4,
             "#fde0ef"
            ],
            [
             0.5,
             "#f7f7f7"
            ],
            [
             0.6,
             "#e6f5d0"
            ],
            [
             0.7,
             "#b8e186"
            ],
            [
             0.8,
             "#7fbc41"
            ],
            [
             0.9,
             "#4d9221"
            ],
            [
             1,
             "#276419"
            ]
           ],
           "sequential": [
            [
             0,
             "#0d0887"
            ],
            [
             0.1111111111111111,
             "#46039f"
            ],
            [
             0.2222222222222222,
             "#7201a8"
            ],
            [
             0.3333333333333333,
             "#9c179e"
            ],
            [
             0.4444444444444444,
             "#bd3786"
            ],
            [
             0.5555555555555556,
             "#d8576b"
            ],
            [
             0.6666666666666666,
             "#ed7953"
            ],
            [
             0.7777777777777778,
             "#fb9f3a"
            ],
            [
             0.8888888888888888,
             "#fdca26"
            ],
            [
             1,
             "#f0f921"
            ]
           ],
           "sequentialminus": [
            [
             0,
             "#0d0887"
            ],
            [
             0.1111111111111111,
             "#46039f"
            ],
            [
             0.2222222222222222,
             "#7201a8"
            ],
            [
             0.3333333333333333,
             "#9c179e"
            ],
            [
             0.4444444444444444,
             "#bd3786"
            ],
            [
             0.5555555555555556,
             "#d8576b"
            ],
            [
             0.6666666666666666,
             "#ed7953"
            ],
            [
             0.7777777777777778,
             "#fb9f3a"
            ],
            [
             0.8888888888888888,
             "#fdca26"
            ],
            [
             1,
             "#f0f921"
            ]
           ]
          },
          "colorway": [
           "#636efa",
           "#EF553B",
           "#00cc96",
           "#ab63fa",
           "#FFA15A",
           "#19d3f3",
           "#FF6692",
           "#B6E880",
           "#FF97FF",
           "#FECB52"
          ],
          "font": {
           "color": "#2a3f5f"
          },
          "geo": {
           "bgcolor": "white",
           "lakecolor": "white",
           "landcolor": "#E5ECF6",
           "showlakes": true,
           "showland": true,
           "subunitcolor": "white"
          },
          "hoverlabel": {
           "align": "left"
          },
          "hovermode": "closest",
          "mapbox": {
           "style": "light"
          },
          "paper_bgcolor": "white",
          "plot_bgcolor": "#E5ECF6",
          "polar": {
           "angularaxis": {
            "gridcolor": "white",
            "linecolor": "white",
            "ticks": ""
           },
           "bgcolor": "#E5ECF6",
           "radialaxis": {
            "gridcolor": "white",
            "linecolor": "white",
            "ticks": ""
           }
          },
          "scene": {
           "xaxis": {
            "backgroundcolor": "#E5ECF6",
            "gridcolor": "white",
            "gridwidth": 2,
            "linecolor": "white",
            "showbackground": true,
            "ticks": "",
            "zerolinecolor": "white"
           },
           "yaxis": {
            "backgroundcolor": "#E5ECF6",
            "gridcolor": "white",
            "gridwidth": 2,
            "linecolor": "white",
            "showbackground": true,
            "ticks": "",
            "zerolinecolor": "white"
           },
           "zaxis": {
            "backgroundcolor": "#E5ECF6",
            "gridcolor": "white",
            "gridwidth": 2,
            "linecolor": "white",
            "showbackground": true,
            "ticks": "",
            "zerolinecolor": "white"
           }
          },
          "shapedefaults": {
           "line": {
            "color": "#2a3f5f"
           }
          },
          "ternary": {
           "aaxis": {
            "gridcolor": "white",
            "linecolor": "white",
            "ticks": ""
           },
           "baxis": {
            "gridcolor": "white",
            "linecolor": "white",
            "ticks": ""
           },
           "bgcolor": "#E5ECF6",
           "caxis": {
            "gridcolor": "white",
            "linecolor": "white",
            "ticks": ""
           }
          },
          "title": {
           "x": 0.05
          },
          "xaxis": {
           "automargin": true,
           "gridcolor": "white",
           "linecolor": "white",
           "ticks": "",
           "title": {
            "standoff": 15
           },
           "zerolinecolor": "white",
           "zerolinewidth": 2
          },
          "yaxis": {
           "automargin": true,
           "gridcolor": "white",
           "linecolor": "white",
           "ticks": "",
           "title": {
            "standoff": 15
           },
           "zerolinecolor": "white",
           "zerolinewidth": 2
          }
         }
        },
        "title": {
         "text": "Hyperparameter Importances"
        },
        "xaxis": {
         "title": {
          "text": "Hyperparameter Importance"
         }
        },
        "yaxis": {
         "title": {
          "text": "Hyperparameter"
         }
        }
       }
      }
     },
     "metadata": {},
     "output_type": "display_data"
    }
   ],
   "source": [
    "fig = optuna.visualization.plot_param_importances(ffnn_study, params=params)\n",
    "show(fig)"
   ]
  },
  {
   "cell_type": "code",
   "execution_count": 61,
   "id": "49956fe447c8fa8b",
   "metadata": {},
   "outputs": [
    {
     "data": {
      "application/vnd.plotly.v1+json": {
       "config": {
        "plotlyServerURL": "https://plot.ly"
       },
       "data": [
        {
         "dimensions": [
          {
           "label": "Objective Value",
           "range": [
            34.72222222222222,
            98.95833333333334
           ],
           "values": [
            98.95833333333334,
            98.95833333333334,
            77.08333333333334,
            93.05555555555556,
            97.56944444444444,
            97.91666666666666,
            65.27777777777779,
            98.95833333333334,
            34.72222222222222,
            96.52777777777779,
            98.61111111111111,
            98.61111111111111,
            98.95833333333334,
            65.27777777777779,
            97.91666666666666
           ]
          },
          {
           "label": "batch_size",
           "range": [
            0,
            2
           ],
           "ticktext": [
            "32",
            "64",
            "128"
           ],
           "tickvals": [
            0,
            1,
            2
           ],
           "values": [
            0,
            1,
            1,
            1,
            1,
            1,
            1,
            1,
            1,
            1,
            1,
            1,
            1,
            2,
            2
           ]
          },
          {
           "label": "epochs",
           "range": [
            36,
            148
           ],
           "values": [
            73,
            98,
            89,
            98,
            128,
            88,
            36,
            92,
            74,
            129,
            85,
            102,
            89,
            90,
            148
           ]
          },
          {
           "label": "hidden_activation0",
           "range": [
            0,
            5
           ],
           "ticktext": [
            "softmax",
            "relu",
            "sigmoid",
            "tanh",
            "softplus",
            "leaky_relu"
           ],
           "tickvals": [
            0,
            1,
            2,
            3,
            4,
            5
           ],
           "values": [
            3,
            2,
            2,
            2,
            3,
            4,
            2,
            5,
            2,
            1,
            0,
            0,
            0,
            0,
            1
           ]
          },
          {
           "label": "hidden_activation1",
           "range": [
            0,
            5
           ],
           "ticktext": [
            "softmax",
            "leaky_relu",
            "relu",
            "softplus",
            "sigmoid",
            "tanh"
           ],
           "tickvals": [
            0,
            1,
            2,
            3,
            4,
            5
           ],
           "values": [
            3,
            1,
            1,
            1,
            3,
            3,
            4,
            3,
            0,
            2,
            3,
            5,
            1,
            0,
            1
           ]
          },
          {
           "label": "hidden_activation2",
           "range": [
            0,
            5
           ],
           "ticktext": [
            "softplus",
            "sigmoid",
            "relu",
            "leaky_relu",
            "tanh",
            "softmax"
           ],
           "tickvals": [
            0,
            1,
            2,
            3,
            4,
            5
           ],
           "values": [
            2,
            2,
            2,
            2,
            4,
            2,
            5,
            5,
            1,
            3,
            0,
            4,
            3,
            0,
            1
           ]
          },
          {
           "label": "hidden_neurons0",
           "range": [
            0,
            5
           ],
           "ticktext": [
            "8",
            "16",
            "32",
            "64",
            "128",
            "256"
           ],
           "tickvals": [
            0,
            1,
            2,
            3,
            4,
            5
           ],
           "values": [
            5,
            0,
            0,
            0,
            0,
            1,
            1,
            1,
            3,
            3,
            4,
            4,
            4,
            2,
            5
           ]
          },
          {
           "label": "hidden_neurons1",
           "range": [
            0,
            4
           ],
           "ticktext": [
            "4",
            "16",
            "32",
            "64",
            "256"
           ],
           "tickvals": [
            0,
            1,
            2,
            3,
            4
           ],
           "values": [
            4,
            0,
            0,
            0,
            3,
            0,
            0,
            3,
            0,
            0,
            0,
            0,
            1,
            1,
            2
           ]
          },
          {
           "label": "hidden_neurons2",
           "range": [
            0,
            6
           ],
           "ticktext": [
            "4",
            "8",
            "16",
            "32",
            "64",
            "128",
            "256"
           ],
           "tickvals": [
            0,
            1,
            2,
            3,
            4,
            5,
            6
           ],
           "values": [
            0,
            3,
            3,
            3,
            0,
            4,
            6,
            5,
            1,
            5,
            3,
            4,
            2,
            1,
            2
           ]
          },
          {
           "label": "input_activation",
           "range": [
            0,
            3
           ],
           "ticktext": [
            "softmax",
            "softplus",
            "sigmoid",
            "tanh"
           ],
           "tickvals": [
            0,
            1,
            2,
            3
           ],
           "values": [
            1,
            2,
            2,
            2,
            2,
            3,
            2,
            1,
            1,
            2,
            1,
            1,
            1,
            0,
            1
           ]
          },
          {
           "label": "optimizer",
           "range": [
            0,
            2
           ],
           "ticktext": [
            "sgd",
            "adam",
            "rmsprop"
           ],
           "tickvals": [
            0,
            1,
            2
           ],
           "values": [
            1,
            1,
            2,
            1,
            1,
            1,
            0,
            1,
            1,
            1,
            1,
            1,
            1,
            0,
            1
           ]
          },
          {
           "label": "output_activation",
           "range": [
            0,
            5
           ],
           "ticktext": [
            "relu",
            "softmax",
            "softplus",
            "sigmoid",
            "tanh",
            "leaky_relu"
           ],
           "tickvals": [
            0,
            1,
            2,
            3,
            4,
            5
           ],
           "values": [
            2,
            2,
            2,
            2,
            3,
            5,
            4,
            2,
            2,
            2,
            1,
            1,
            1,
            0,
            1
           ]
          }
         ],
         "labelangle": 30,
         "labelside": "bottom",
         "line": {
          "color": [
           98.95833333333334,
           98.95833333333334,
           77.08333333333334,
           93.05555555555556,
           97.56944444444444,
           97.91666666666666,
           65.27777777777779,
           98.95833333333334,
           34.72222222222222,
           96.52777777777779,
           98.61111111111111,
           98.61111111111111,
           98.95833333333334,
           65.27777777777779,
           97.91666666666666
          ],
          "colorbar": {
           "title": {
            "text": "Objective Value"
           }
          },
          "colorscale": [
           [
            0,
            "rgb(247,251,255)"
           ],
           [
            0.125,
            "rgb(222,235,247)"
           ],
           [
            0.25,
            "rgb(198,219,239)"
           ],
           [
            0.375,
            "rgb(158,202,225)"
           ],
           [
            0.5,
            "rgb(107,174,214)"
           ],
           [
            0.625,
            "rgb(66,146,198)"
           ],
           [
            0.75,
            "rgb(33,113,181)"
           ],
           [
            0.875,
            "rgb(8,81,156)"
           ],
           [
            1,
            "rgb(8,48,107)"
           ]
          ],
          "reversescale": false,
          "showscale": true
         },
         "type": "parcoords"
        }
       ],
       "layout": {
        "template": {
         "data": {
          "bar": [
           {
            "error_x": {
             "color": "#2a3f5f"
            },
            "error_y": {
             "color": "#2a3f5f"
            },
            "marker": {
             "line": {
              "color": "#E5ECF6",
              "width": 0.5
             },
             "pattern": {
              "fillmode": "overlay",
              "size": 10,
              "solidity": 0.2
             }
            },
            "type": "bar"
           }
          ],
          "barpolar": [
           {
            "marker": {
             "line": {
              "color": "#E5ECF6",
              "width": 0.5
             },
             "pattern": {
              "fillmode": "overlay",
              "size": 10,
              "solidity": 0.2
             }
            },
            "type": "barpolar"
           }
          ],
          "carpet": [
           {
            "aaxis": {
             "endlinecolor": "#2a3f5f",
             "gridcolor": "white",
             "linecolor": "white",
             "minorgridcolor": "white",
             "startlinecolor": "#2a3f5f"
            },
            "baxis": {
             "endlinecolor": "#2a3f5f",
             "gridcolor": "white",
             "linecolor": "white",
             "minorgridcolor": "white",
             "startlinecolor": "#2a3f5f"
            },
            "type": "carpet"
           }
          ],
          "choropleth": [
           {
            "colorbar": {
             "outlinewidth": 0,
             "ticks": ""
            },
            "type": "choropleth"
           }
          ],
          "contour": [
           {
            "colorbar": {
             "outlinewidth": 0,
             "ticks": ""
            },
            "colorscale": [
             [
              0,
              "#0d0887"
             ],
             [
              0.1111111111111111,
              "#46039f"
             ],
             [
              0.2222222222222222,
              "#7201a8"
             ],
             [
              0.3333333333333333,
              "#9c179e"
             ],
             [
              0.4444444444444444,
              "#bd3786"
             ],
             [
              0.5555555555555556,
              "#d8576b"
             ],
             [
              0.6666666666666666,
              "#ed7953"
             ],
             [
              0.7777777777777778,
              "#fb9f3a"
             ],
             [
              0.8888888888888888,
              "#fdca26"
             ],
             [
              1,
              "#f0f921"
             ]
            ],
            "type": "contour"
           }
          ],
          "contourcarpet": [
           {
            "colorbar": {
             "outlinewidth": 0,
             "ticks": ""
            },
            "type": "contourcarpet"
           }
          ],
          "heatmap": [
           {
            "colorbar": {
             "outlinewidth": 0,
             "ticks": ""
            },
            "colorscale": [
             [
              0,
              "#0d0887"
             ],
             [
              0.1111111111111111,
              "#46039f"
             ],
             [
              0.2222222222222222,
              "#7201a8"
             ],
             [
              0.3333333333333333,
              "#9c179e"
             ],
             [
              0.4444444444444444,
              "#bd3786"
             ],
             [
              0.5555555555555556,
              "#d8576b"
             ],
             [
              0.6666666666666666,
              "#ed7953"
             ],
             [
              0.7777777777777778,
              "#fb9f3a"
             ],
             [
              0.8888888888888888,
              "#fdca26"
             ],
             [
              1,
              "#f0f921"
             ]
            ],
            "type": "heatmap"
           }
          ],
          "heatmapgl": [
           {
            "colorbar": {
             "outlinewidth": 0,
             "ticks": ""
            },
            "colorscale": [
             [
              0,
              "#0d0887"
             ],
             [
              0.1111111111111111,
              "#46039f"
             ],
             [
              0.2222222222222222,
              "#7201a8"
             ],
             [
              0.3333333333333333,
              "#9c179e"
             ],
             [
              0.4444444444444444,
              "#bd3786"
             ],
             [
              0.5555555555555556,
              "#d8576b"
             ],
             [
              0.6666666666666666,
              "#ed7953"
             ],
             [
              0.7777777777777778,
              "#fb9f3a"
             ],
             [
              0.8888888888888888,
              "#fdca26"
             ],
             [
              1,
              "#f0f921"
             ]
            ],
            "type": "heatmapgl"
           }
          ],
          "histogram": [
           {
            "marker": {
             "pattern": {
              "fillmode": "overlay",
              "size": 10,
              "solidity": 0.2
             }
            },
            "type": "histogram"
           }
          ],
          "histogram2d": [
           {
            "colorbar": {
             "outlinewidth": 0,
             "ticks": ""
            },
            "colorscale": [
             [
              0,
              "#0d0887"
             ],
             [
              0.1111111111111111,
              "#46039f"
             ],
             [
              0.2222222222222222,
              "#7201a8"
             ],
             [
              0.3333333333333333,
              "#9c179e"
             ],
             [
              0.4444444444444444,
              "#bd3786"
             ],
             [
              0.5555555555555556,
              "#d8576b"
             ],
             [
              0.6666666666666666,
              "#ed7953"
             ],
             [
              0.7777777777777778,
              "#fb9f3a"
             ],
             [
              0.8888888888888888,
              "#fdca26"
             ],
             [
              1,
              "#f0f921"
             ]
            ],
            "type": "histogram2d"
           }
          ],
          "histogram2dcontour": [
           {
            "colorbar": {
             "outlinewidth": 0,
             "ticks": ""
            },
            "colorscale": [
             [
              0,
              "#0d0887"
             ],
             [
              0.1111111111111111,
              "#46039f"
             ],
             [
              0.2222222222222222,
              "#7201a8"
             ],
             [
              0.3333333333333333,
              "#9c179e"
             ],
             [
              0.4444444444444444,
              "#bd3786"
             ],
             [
              0.5555555555555556,
              "#d8576b"
             ],
             [
              0.6666666666666666,
              "#ed7953"
             ],
             [
              0.7777777777777778,
              "#fb9f3a"
             ],
             [
              0.8888888888888888,
              "#fdca26"
             ],
             [
              1,
              "#f0f921"
             ]
            ],
            "type": "histogram2dcontour"
           }
          ],
          "mesh3d": [
           {
            "colorbar": {
             "outlinewidth": 0,
             "ticks": ""
            },
            "type": "mesh3d"
           }
          ],
          "parcoords": [
           {
            "line": {
             "colorbar": {
              "outlinewidth": 0,
              "ticks": ""
             }
            },
            "type": "parcoords"
           }
          ],
          "pie": [
           {
            "automargin": true,
            "type": "pie"
           }
          ],
          "scatter": [
           {
            "fillpattern": {
             "fillmode": "overlay",
             "size": 10,
             "solidity": 0.2
            },
            "type": "scatter"
           }
          ],
          "scatter3d": [
           {
            "line": {
             "colorbar": {
              "outlinewidth": 0,
              "ticks": ""
             }
            },
            "marker": {
             "colorbar": {
              "outlinewidth": 0,
              "ticks": ""
             }
            },
            "type": "scatter3d"
           }
          ],
          "scattercarpet": [
           {
            "marker": {
             "colorbar": {
              "outlinewidth": 0,
              "ticks": ""
             }
            },
            "type": "scattercarpet"
           }
          ],
          "scattergeo": [
           {
            "marker": {
             "colorbar": {
              "outlinewidth": 0,
              "ticks": ""
             }
            },
            "type": "scattergeo"
           }
          ],
          "scattergl": [
           {
            "marker": {
             "colorbar": {
              "outlinewidth": 0,
              "ticks": ""
             }
            },
            "type": "scattergl"
           }
          ],
          "scattermapbox": [
           {
            "marker": {
             "colorbar": {
              "outlinewidth": 0,
              "ticks": ""
             }
            },
            "type": "scattermapbox"
           }
          ],
          "scatterpolar": [
           {
            "marker": {
             "colorbar": {
              "outlinewidth": 0,
              "ticks": ""
             }
            },
            "type": "scatterpolar"
           }
          ],
          "scatterpolargl": [
           {
            "marker": {
             "colorbar": {
              "outlinewidth": 0,
              "ticks": ""
             }
            },
            "type": "scatterpolargl"
           }
          ],
          "scatterternary": [
           {
            "marker": {
             "colorbar": {
              "outlinewidth": 0,
              "ticks": ""
             }
            },
            "type": "scatterternary"
           }
          ],
          "surface": [
           {
            "colorbar": {
             "outlinewidth": 0,
             "ticks": ""
            },
            "colorscale": [
             [
              0,
              "#0d0887"
             ],
             [
              0.1111111111111111,
              "#46039f"
             ],
             [
              0.2222222222222222,
              "#7201a8"
             ],
             [
              0.3333333333333333,
              "#9c179e"
             ],
             [
              0.4444444444444444,
              "#bd3786"
             ],
             [
              0.5555555555555556,
              "#d8576b"
             ],
             [
              0.6666666666666666,
              "#ed7953"
             ],
             [
              0.7777777777777778,
              "#fb9f3a"
             ],
             [
              0.8888888888888888,
              "#fdca26"
             ],
             [
              1,
              "#f0f921"
             ]
            ],
            "type": "surface"
           }
          ],
          "table": [
           {
            "cells": {
             "fill": {
              "color": "#EBF0F8"
             },
             "line": {
              "color": "white"
             }
            },
            "header": {
             "fill": {
              "color": "#C8D4E3"
             },
             "line": {
              "color": "white"
             }
            },
            "type": "table"
           }
          ]
         },
         "layout": {
          "annotationdefaults": {
           "arrowcolor": "#2a3f5f",
           "arrowhead": 0,
           "arrowwidth": 1
          },
          "autotypenumbers": "strict",
          "coloraxis": {
           "colorbar": {
            "outlinewidth": 0,
            "ticks": ""
           }
          },
          "colorscale": {
           "diverging": [
            [
             0,
             "#8e0152"
            ],
            [
             0.1,
             "#c51b7d"
            ],
            [
             0.2,
             "#de77ae"
            ],
            [
             0.3,
             "#f1b6da"
            ],
            [
             0.4,
             "#fde0ef"
            ],
            [
             0.5,
             "#f7f7f7"
            ],
            [
             0.6,
             "#e6f5d0"
            ],
            [
             0.7,
             "#b8e186"
            ],
            [
             0.8,
             "#7fbc41"
            ],
            [
             0.9,
             "#4d9221"
            ],
            [
             1,
             "#276419"
            ]
           ],
           "sequential": [
            [
             0,
             "#0d0887"
            ],
            [
             0.1111111111111111,
             "#46039f"
            ],
            [
             0.2222222222222222,
             "#7201a8"
            ],
            [
             0.3333333333333333,
             "#9c179e"
            ],
            [
             0.4444444444444444,
             "#bd3786"
            ],
            [
             0.5555555555555556,
             "#d8576b"
            ],
            [
             0.6666666666666666,
             "#ed7953"
            ],
            [
             0.7777777777777778,
             "#fb9f3a"
            ],
            [
             0.8888888888888888,
             "#fdca26"
            ],
            [
             1,
             "#f0f921"
            ]
           ],
           "sequentialminus": [
            [
             0,
             "#0d0887"
            ],
            [
             0.1111111111111111,
             "#46039f"
            ],
            [
             0.2222222222222222,
             "#7201a8"
            ],
            [
             0.3333333333333333,
             "#9c179e"
            ],
            [
             0.4444444444444444,
             "#bd3786"
            ],
            [
             0.5555555555555556,
             "#d8576b"
            ],
            [
             0.6666666666666666,
             "#ed7953"
            ],
            [
             0.7777777777777778,
             "#fb9f3a"
            ],
            [
             0.8888888888888888,
             "#fdca26"
            ],
            [
             1,
             "#f0f921"
            ]
           ]
          },
          "colorway": [
           "#636efa",
           "#EF553B",
           "#00cc96",
           "#ab63fa",
           "#FFA15A",
           "#19d3f3",
           "#FF6692",
           "#B6E880",
           "#FF97FF",
           "#FECB52"
          ],
          "font": {
           "color": "#2a3f5f"
          },
          "geo": {
           "bgcolor": "white",
           "lakecolor": "white",
           "landcolor": "#E5ECF6",
           "showlakes": true,
           "showland": true,
           "subunitcolor": "white"
          },
          "hoverlabel": {
           "align": "left"
          },
          "hovermode": "closest",
          "mapbox": {
           "style": "light"
          },
          "paper_bgcolor": "white",
          "plot_bgcolor": "#E5ECF6",
          "polar": {
           "angularaxis": {
            "gridcolor": "white",
            "linecolor": "white",
            "ticks": ""
           },
           "bgcolor": "#E5ECF6",
           "radialaxis": {
            "gridcolor": "white",
            "linecolor": "white",
            "ticks": ""
           }
          },
          "scene": {
           "xaxis": {
            "backgroundcolor": "#E5ECF6",
            "gridcolor": "white",
            "gridwidth": 2,
            "linecolor": "white",
            "showbackground": true,
            "ticks": "",
            "zerolinecolor": "white"
           },
           "yaxis": {
            "backgroundcolor": "#E5ECF6",
            "gridcolor": "white",
            "gridwidth": 2,
            "linecolor": "white",
            "showbackground": true,
            "ticks": "",
            "zerolinecolor": "white"
           },
           "zaxis": {
            "backgroundcolor": "#E5ECF6",
            "gridcolor": "white",
            "gridwidth": 2,
            "linecolor": "white",
            "showbackground": true,
            "ticks": "",
            "zerolinecolor": "white"
           }
          },
          "shapedefaults": {
           "line": {
            "color": "#2a3f5f"
           }
          },
          "ternary": {
           "aaxis": {
            "gridcolor": "white",
            "linecolor": "white",
            "ticks": ""
           },
           "baxis": {
            "gridcolor": "white",
            "linecolor": "white",
            "ticks": ""
           },
           "bgcolor": "#E5ECF6",
           "caxis": {
            "gridcolor": "white",
            "linecolor": "white",
            "ticks": ""
           }
          },
          "title": {
           "x": 0.05
          },
          "xaxis": {
           "automargin": true,
           "gridcolor": "white",
           "linecolor": "white",
           "ticks": "",
           "title": {
            "standoff": 15
           },
           "zerolinecolor": "white",
           "zerolinewidth": 2
          },
          "yaxis": {
           "automargin": true,
           "gridcolor": "white",
           "linecolor": "white",
           "ticks": "",
           "title": {
            "standoff": 15
           },
           "zerolinecolor": "white",
           "zerolinewidth": 2
          }
         }
        },
        "title": {
         "text": "Parallel Coordinate Plot"
        }
       }
      }
     },
     "metadata": {},
     "output_type": "display_data"
    }
   ],
   "source": [
    "del params[1]\n",
    "fig = optuna.visualization.plot_parallel_coordinate(ffnn_study, params=params)\n",
    "show(fig)"
   ]
  },
  {
   "cell_type": "code",
   "execution_count": 62,
   "id": "b94021857f73ebba",
   "metadata": {},
   "outputs": [
    {
     "name": "stdout",
     "output_type": "stream",
     "text": [
      "\u001b[1m9/9\u001b[0m \u001b[32m━━━━━━━━━━━━━━━━━━━━\u001b[0m\u001b[37m\u001b[0m \u001b[1m0s\u001b[0m 3ms/step \n",
      "Accuracy:   98.958\n",
      "Precision:  72.801\n"
     ]
    }
   ],
   "source": [
    "best_ffnn_params = best_ffnn_trial.params\n",
    "\n",
    "ffnn_layers = [Dense(27, activation=best_ffnn_params['input_activation'])]\n",
    "for n in range(best_ffnn_params['hidden_layers']):\n",
    "    ffnn_hidden_neuron_count = best_ffnn_params[f'hidden_neurons{n}']\n",
    "    ffnn_hidden_activation_function = best_ffnn_params[f'hidden_activation{n}']\n",
    "    ffnn_layers.append(Dense(ffnn_hidden_neuron_count, activation=ffnn_hidden_activation_function))\n",
    "\n",
    "ffnn_output_activation_function = best_ffnn_params['output_activation']\n",
    "ffnn_layers.append(Dense(2, activation=ffnn_output_activation_function))\n",
    "ffnn_sequential = Sequential(ffnn_layers)\n",
    "\n",
    "ffnn_model, ffnn_history = create_model(ffnn_sequential, x_ffnn_train, y_ffnn_train,\n",
    "                                        optimizer=best_ffnn_params['optimizer'], epochs=best_ffnn_params['epochs'],\n",
    "                                        batch_size=best_ffnn_params['batch_size'])\n",
    "\n",
    "ffnn_accuracy, ffnn_precision = evaluate_model(ffnn_model, x_ffnn_test, y_ffnn_test, precision_metric)\n",
    "print(f'Accuracy:  {ffnn_accuracy: .3f}')\n",
    "print(f'Precision: {ffnn_precision: .3f}')"
   ]
  },
  {
   "cell_type": "markdown",
   "id": "f74400d2092a6239",
   "metadata": {},
   "source": [
    "Since the model is retrained with parameters obtained from `best_ffnn_trial.params`, accuracy and precision may vary slightly."
   ]
  },
  {
   "cell_type": "markdown",
   "id": "9ae4e215bfedd793",
   "metadata": {},
   "source": [
    "## SOM"
   ]
  },
  {
   "cell_type": "code",
   "execution_count": 63,
   "id": "eb093c9f6177ed72",
   "metadata": {},
   "outputs": [],
   "source": [
    "def test_som_params(trial, X=X_SOM, x_train=x_som_train, x_test=x_som_test, y_train=y_som_train, y_test=y_som_test):\n",
    "    num_iteration = trial.suggest_int('num_iteration', 10, 1500)\n",
    "    dim = trial.suggest_int('dim', 5, 100)\n",
    "    sigma = trial.suggest_float('sigma', 1, 5)\n",
    "    learning_rate = trial.suggest_float('learning_rate', 0.01, 1.5)\n",
    "    topology = trial.suggest_categorical('topology', ['rectangular', 'hexagonal'])\n",
    "    neighborhood_function = trial.suggest_categorical('neighborhood_function',\n",
    "                                                      ['gaussian', 'mexican_hat', 'bubble', 'triangle'])\n",
    "\n",
    "    runs = 10\n",
    "    accuracies = []\n",
    "    for _ in range(runs):\n",
    "        model = MiniSom(dim, dim, X.shape[1],\n",
    "                        neighborhood_function=neighborhood_function,\n",
    "                        topology=topology,\n",
    "                        sigma=sigma, learning_rate=learning_rate)\n",
    "        model.pca_weights_init(x_train)\n",
    "        model.train_random(x_train, num_iteration=num_iteration, verbose=0)\n",
    "\n",
    "        correct = 0\n",
    "        y_predicted = classify(model, x_train, x_test, y_train)\n",
    "        total = len(y_predicted)\n",
    "        for i, predicted in enumerate(y_predicted):\n",
    "            if y_test[i] == predicted:\n",
    "                correct += 1\n",
    "        accuracies.append((correct / total) * 100)\n",
    "\n",
    "    accuracy = np.sum(accuracies) / runs\n",
    "    return accuracy"
   ]
  },
  {
   "cell_type": "code",
   "execution_count": 64,
   "id": "272a20a0f8b4e122",
   "metadata": {},
   "outputs": [
    {
     "data": {
      "application/vnd.jupyter.widget-view+json": {
       "model_id": "02da6196d1044a9cb3b3e473fc46f8a2",
       "version_major": 2,
       "version_minor": 0
      },
      "text/plain": [
       "  0%|          | 0/50 [00:00<?, ?it/s]"
      ]
     },
     "metadata": {},
     "output_type": "display_data"
    }
   ],
   "source": [
    "%%capture --no-display\n",
    "SOM_TRIALS = 50\n",
    "som_study = optuna.create_study(direction='maximize')\n",
    "som_study.optimize(test_som_params, n_trials=SOM_TRIALS, show_progress_bar=True)"
   ]
  },
  {
   "cell_type": "code",
   "execution_count": 65,
   "id": "2af6abf2",
   "metadata": {},
   "outputs": [
    {
     "name": "stdout",
     "output_type": "stream",
     "text": [
      "Best trial:\n",
      "\tAccuracy:  88.576\n",
      "\tBest parameters: {'num_iteration': 1397, 'dim': 55, 'sigma': 1.0881717564709772, 'learning_rate': 0.4449250502566837, 'topology': 'hexagonal', 'neighborhood_function': 'gaussian'}\n"
     ]
    }
   ],
   "source": [
    "print('Best trial:')\n",
    "best_som_trial = som_study.best_trial\n",
    "print(f'\\tAccuracy: {best_som_trial.value: .3f}')\n",
    "print(f'\\tBest parameters: {best_som_trial.params}')"
   ]
  },
  {
   "cell_type": "code",
   "execution_count": 66,
   "id": "11ca8d455100a4ff",
   "metadata": {},
   "outputs": [
    {
     "data": {
      "application/vnd.plotly.v1+json": {
       "config": {
        "plotlyServerURL": "https://plot.ly"
       },
       "data": [
        {
         "mode": "markers",
         "name": "Objective Value",
         "type": "scatter",
         "x": [
          0,
          1,
          2,
          3,
          4,
          5,
          6,
          7,
          8,
          9,
          10,
          11,
          12,
          13,
          14,
          15,
          16,
          17,
          18,
          19,
          20,
          21,
          22,
          23,
          24,
          25,
          26,
          27,
          28,
          29,
          30,
          31,
          32,
          33,
          34,
          35,
          36,
          37,
          38,
          39,
          40,
          41,
          42,
          43,
          44,
          45,
          46,
          47,
          48,
          49
         ],
         "y": [
          80.55555555555556,
          85.41666666666666,
          65.5902777777778,
          82.8125,
          65.93750000000003,
          65.38194444444446,
          83.12500000000001,
          65.59027777777779,
          65.2777777777778,
          79.20138888888889,
          75.97222222222221,
          82.15277777777779,
          80.41666666666666,
          73.71527777777779,
          70.79861111111111,
          83.26388888888889,
          85.10416666666666,
          84.96527777777779,
          83.15972222222223,
          79.6875,
          86.4236111111111,
          86.18055555555556,
          88.0902777777778,
          86.77083333333334,
          83.15972222222223,
          85.41666666666666,
          85.90277777777777,
          85.24305555555556,
          86.70138888888889,
          87.6736111111111,
          86.18055555555556,
          87.11805555555557,
          83.92361111111111,
          85.38194444444443,
          88.57638888888889,
          88.19444444444444,
          86.59722222222221,
          85.24305555555557,
          87.43055555555554,
          65.2777777777778,
          86.28472222222223,
          85.90277777777779,
          87.6736111111111,
          86.63194444444444,
          86.04166666666666,
          65.2777777777778,
          79.34027777777779,
          86.18055555555557,
          74.37499999999999,
          83.74999999999999
         ]
        },
        {
         "mode": "lines",
         "name": "Best Value",
         "type": "scatter",
         "x": [
          0,
          1,
          2,
          3,
          4,
          5,
          6,
          7,
          8,
          9,
          10,
          11,
          12,
          13,
          14,
          15,
          16,
          17,
          18,
          19,
          20,
          21,
          22,
          23,
          24,
          25,
          26,
          27,
          28,
          29,
          30,
          31,
          32,
          33,
          34,
          35,
          36,
          37,
          38,
          39,
          40,
          41,
          42,
          43,
          44,
          45,
          46,
          47,
          48,
          49
         ],
         "y": [
          80.55555555555556,
          85.41666666666666,
          85.41666666666666,
          85.41666666666666,
          85.41666666666666,
          85.41666666666666,
          85.41666666666666,
          85.41666666666666,
          85.41666666666666,
          85.41666666666666,
          85.41666666666666,
          85.41666666666666,
          85.41666666666666,
          85.41666666666666,
          85.41666666666666,
          85.41666666666666,
          85.41666666666666,
          85.41666666666666,
          85.41666666666666,
          85.41666666666666,
          86.4236111111111,
          86.4236111111111,
          88.0902777777778,
          88.0902777777778,
          88.0902777777778,
          88.0902777777778,
          88.0902777777778,
          88.0902777777778,
          88.0902777777778,
          88.0902777777778,
          88.0902777777778,
          88.0902777777778,
          88.0902777777778,
          88.0902777777778,
          88.57638888888889,
          88.57638888888889,
          88.57638888888889,
          88.57638888888889,
          88.57638888888889,
          88.57638888888889,
          88.57638888888889,
          88.57638888888889,
          88.57638888888889,
          88.57638888888889,
          88.57638888888889,
          88.57638888888889,
          88.57638888888889,
          88.57638888888889,
          88.57638888888889,
          88.57638888888889
         ]
        },
        {
         "marker": {
          "color": "#cccccc"
         },
         "mode": "markers",
         "name": "Infeasible Trial",
         "showlegend": false,
         "type": "scatter",
         "x": [],
         "y": []
        }
       ],
       "layout": {
        "template": {
         "data": {
          "bar": [
           {
            "error_x": {
             "color": "#2a3f5f"
            },
            "error_y": {
             "color": "#2a3f5f"
            },
            "marker": {
             "line": {
              "color": "#E5ECF6",
              "width": 0.5
             },
             "pattern": {
              "fillmode": "overlay",
              "size": 10,
              "solidity": 0.2
             }
            },
            "type": "bar"
           }
          ],
          "barpolar": [
           {
            "marker": {
             "line": {
              "color": "#E5ECF6",
              "width": 0.5
             },
             "pattern": {
              "fillmode": "overlay",
              "size": 10,
              "solidity": 0.2
             }
            },
            "type": "barpolar"
           }
          ],
          "carpet": [
           {
            "aaxis": {
             "endlinecolor": "#2a3f5f",
             "gridcolor": "white",
             "linecolor": "white",
             "minorgridcolor": "white",
             "startlinecolor": "#2a3f5f"
            },
            "baxis": {
             "endlinecolor": "#2a3f5f",
             "gridcolor": "white",
             "linecolor": "white",
             "minorgridcolor": "white",
             "startlinecolor": "#2a3f5f"
            },
            "type": "carpet"
           }
          ],
          "choropleth": [
           {
            "colorbar": {
             "outlinewidth": 0,
             "ticks": ""
            },
            "type": "choropleth"
           }
          ],
          "contour": [
           {
            "colorbar": {
             "outlinewidth": 0,
             "ticks": ""
            },
            "colorscale": [
             [
              0,
              "#0d0887"
             ],
             [
              0.1111111111111111,
              "#46039f"
             ],
             [
              0.2222222222222222,
              "#7201a8"
             ],
             [
              0.3333333333333333,
              "#9c179e"
             ],
             [
              0.4444444444444444,
              "#bd3786"
             ],
             [
              0.5555555555555556,
              "#d8576b"
             ],
             [
              0.6666666666666666,
              "#ed7953"
             ],
             [
              0.7777777777777778,
              "#fb9f3a"
             ],
             [
              0.8888888888888888,
              "#fdca26"
             ],
             [
              1,
              "#f0f921"
             ]
            ],
            "type": "contour"
           }
          ],
          "contourcarpet": [
           {
            "colorbar": {
             "outlinewidth": 0,
             "ticks": ""
            },
            "type": "contourcarpet"
           }
          ],
          "heatmap": [
           {
            "colorbar": {
             "outlinewidth": 0,
             "ticks": ""
            },
            "colorscale": [
             [
              0,
              "#0d0887"
             ],
             [
              0.1111111111111111,
              "#46039f"
             ],
             [
              0.2222222222222222,
              "#7201a8"
             ],
             [
              0.3333333333333333,
              "#9c179e"
             ],
             [
              0.4444444444444444,
              "#bd3786"
             ],
             [
              0.5555555555555556,
              "#d8576b"
             ],
             [
              0.6666666666666666,
              "#ed7953"
             ],
             [
              0.7777777777777778,
              "#fb9f3a"
             ],
             [
              0.8888888888888888,
              "#fdca26"
             ],
             [
              1,
              "#f0f921"
             ]
            ],
            "type": "heatmap"
           }
          ],
          "heatmapgl": [
           {
            "colorbar": {
             "outlinewidth": 0,
             "ticks": ""
            },
            "colorscale": [
             [
              0,
              "#0d0887"
             ],
             [
              0.1111111111111111,
              "#46039f"
             ],
             [
              0.2222222222222222,
              "#7201a8"
             ],
             [
              0.3333333333333333,
              "#9c179e"
             ],
             [
              0.4444444444444444,
              "#bd3786"
             ],
             [
              0.5555555555555556,
              "#d8576b"
             ],
             [
              0.6666666666666666,
              "#ed7953"
             ],
             [
              0.7777777777777778,
              "#fb9f3a"
             ],
             [
              0.8888888888888888,
              "#fdca26"
             ],
             [
              1,
              "#f0f921"
             ]
            ],
            "type": "heatmapgl"
           }
          ],
          "histogram": [
           {
            "marker": {
             "pattern": {
              "fillmode": "overlay",
              "size": 10,
              "solidity": 0.2
             }
            },
            "type": "histogram"
           }
          ],
          "histogram2d": [
           {
            "colorbar": {
             "outlinewidth": 0,
             "ticks": ""
            },
            "colorscale": [
             [
              0,
              "#0d0887"
             ],
             [
              0.1111111111111111,
              "#46039f"
             ],
             [
              0.2222222222222222,
              "#7201a8"
             ],
             [
              0.3333333333333333,
              "#9c179e"
             ],
             [
              0.4444444444444444,
              "#bd3786"
             ],
             [
              0.5555555555555556,
              "#d8576b"
             ],
             [
              0.6666666666666666,
              "#ed7953"
             ],
             [
              0.7777777777777778,
              "#fb9f3a"
             ],
             [
              0.8888888888888888,
              "#fdca26"
             ],
             [
              1,
              "#f0f921"
             ]
            ],
            "type": "histogram2d"
           }
          ],
          "histogram2dcontour": [
           {
            "colorbar": {
             "outlinewidth": 0,
             "ticks": ""
            },
            "colorscale": [
             [
              0,
              "#0d0887"
             ],
             [
              0.1111111111111111,
              "#46039f"
             ],
             [
              0.2222222222222222,
              "#7201a8"
             ],
             [
              0.3333333333333333,
              "#9c179e"
             ],
             [
              0.4444444444444444,
              "#bd3786"
             ],
             [
              0.5555555555555556,
              "#d8576b"
             ],
             [
              0.6666666666666666,
              "#ed7953"
             ],
             [
              0.7777777777777778,
              "#fb9f3a"
             ],
             [
              0.8888888888888888,
              "#fdca26"
             ],
             [
              1,
              "#f0f921"
             ]
            ],
            "type": "histogram2dcontour"
           }
          ],
          "mesh3d": [
           {
            "colorbar": {
             "outlinewidth": 0,
             "ticks": ""
            },
            "type": "mesh3d"
           }
          ],
          "parcoords": [
           {
            "line": {
             "colorbar": {
              "outlinewidth": 0,
              "ticks": ""
             }
            },
            "type": "parcoords"
           }
          ],
          "pie": [
           {
            "automargin": true,
            "type": "pie"
           }
          ],
          "scatter": [
           {
            "fillpattern": {
             "fillmode": "overlay",
             "size": 10,
             "solidity": 0.2
            },
            "type": "scatter"
           }
          ],
          "scatter3d": [
           {
            "line": {
             "colorbar": {
              "outlinewidth": 0,
              "ticks": ""
             }
            },
            "marker": {
             "colorbar": {
              "outlinewidth": 0,
              "ticks": ""
             }
            },
            "type": "scatter3d"
           }
          ],
          "scattercarpet": [
           {
            "marker": {
             "colorbar": {
              "outlinewidth": 0,
              "ticks": ""
             }
            },
            "type": "scattercarpet"
           }
          ],
          "scattergeo": [
           {
            "marker": {
             "colorbar": {
              "outlinewidth": 0,
              "ticks": ""
             }
            },
            "type": "scattergeo"
           }
          ],
          "scattergl": [
           {
            "marker": {
             "colorbar": {
              "outlinewidth": 0,
              "ticks": ""
             }
            },
            "type": "scattergl"
           }
          ],
          "scattermapbox": [
           {
            "marker": {
             "colorbar": {
              "outlinewidth": 0,
              "ticks": ""
             }
            },
            "type": "scattermapbox"
           }
          ],
          "scatterpolar": [
           {
            "marker": {
             "colorbar": {
              "outlinewidth": 0,
              "ticks": ""
             }
            },
            "type": "scatterpolar"
           }
          ],
          "scatterpolargl": [
           {
            "marker": {
             "colorbar": {
              "outlinewidth": 0,
              "ticks": ""
             }
            },
            "type": "scatterpolargl"
           }
          ],
          "scatterternary": [
           {
            "marker": {
             "colorbar": {
              "outlinewidth": 0,
              "ticks": ""
             }
            },
            "type": "scatterternary"
           }
          ],
          "surface": [
           {
            "colorbar": {
             "outlinewidth": 0,
             "ticks": ""
            },
            "colorscale": [
             [
              0,
              "#0d0887"
             ],
             [
              0.1111111111111111,
              "#46039f"
             ],
             [
              0.2222222222222222,
              "#7201a8"
             ],
             [
              0.3333333333333333,
              "#9c179e"
             ],
             [
              0.4444444444444444,
              "#bd3786"
             ],
             [
              0.5555555555555556,
              "#d8576b"
             ],
             [
              0.6666666666666666,
              "#ed7953"
             ],
             [
              0.7777777777777778,
              "#fb9f3a"
             ],
             [
              0.8888888888888888,
              "#fdca26"
             ],
             [
              1,
              "#f0f921"
             ]
            ],
            "type": "surface"
           }
          ],
          "table": [
           {
            "cells": {
             "fill": {
              "color": "#EBF0F8"
             },
             "line": {
              "color": "white"
             }
            },
            "header": {
             "fill": {
              "color": "#C8D4E3"
             },
             "line": {
              "color": "white"
             }
            },
            "type": "table"
           }
          ]
         },
         "layout": {
          "annotationdefaults": {
           "arrowcolor": "#2a3f5f",
           "arrowhead": 0,
           "arrowwidth": 1
          },
          "autotypenumbers": "strict",
          "coloraxis": {
           "colorbar": {
            "outlinewidth": 0,
            "ticks": ""
           }
          },
          "colorscale": {
           "diverging": [
            [
             0,
             "#8e0152"
            ],
            [
             0.1,
             "#c51b7d"
            ],
            [
             0.2,
             "#de77ae"
            ],
            [
             0.3,
             "#f1b6da"
            ],
            [
             0.4,
             "#fde0ef"
            ],
            [
             0.5,
             "#f7f7f7"
            ],
            [
             0.6,
             "#e6f5d0"
            ],
            [
             0.7,
             "#b8e186"
            ],
            [
             0.8,
             "#7fbc41"
            ],
            [
             0.9,
             "#4d9221"
            ],
            [
             1,
             "#276419"
            ]
           ],
           "sequential": [
            [
             0,
             "#0d0887"
            ],
            [
             0.1111111111111111,
             "#46039f"
            ],
            [
             0.2222222222222222,
             "#7201a8"
            ],
            [
             0.3333333333333333,
             "#9c179e"
            ],
            [
             0.4444444444444444,
             "#bd3786"
            ],
            [
             0.5555555555555556,
             "#d8576b"
            ],
            [
             0.6666666666666666,
             "#ed7953"
            ],
            [
             0.7777777777777778,
             "#fb9f3a"
            ],
            [
             0.8888888888888888,
             "#fdca26"
            ],
            [
             1,
             "#f0f921"
            ]
           ],
           "sequentialminus": [
            [
             0,
             "#0d0887"
            ],
            [
             0.1111111111111111,
             "#46039f"
            ],
            [
             0.2222222222222222,
             "#7201a8"
            ],
            [
             0.3333333333333333,
             "#9c179e"
            ],
            [
             0.4444444444444444,
             "#bd3786"
            ],
            [
             0.5555555555555556,
             "#d8576b"
            ],
            [
             0.6666666666666666,
             "#ed7953"
            ],
            [
             0.7777777777777778,
             "#fb9f3a"
            ],
            [
             0.8888888888888888,
             "#fdca26"
            ],
            [
             1,
             "#f0f921"
            ]
           ]
          },
          "colorway": [
           "#636efa",
           "#EF553B",
           "#00cc96",
           "#ab63fa",
           "#FFA15A",
           "#19d3f3",
           "#FF6692",
           "#B6E880",
           "#FF97FF",
           "#FECB52"
          ],
          "font": {
           "color": "#2a3f5f"
          },
          "geo": {
           "bgcolor": "white",
           "lakecolor": "white",
           "landcolor": "#E5ECF6",
           "showlakes": true,
           "showland": true,
           "subunitcolor": "white"
          },
          "hoverlabel": {
           "align": "left"
          },
          "hovermode": "closest",
          "mapbox": {
           "style": "light"
          },
          "paper_bgcolor": "white",
          "plot_bgcolor": "#E5ECF6",
          "polar": {
           "angularaxis": {
            "gridcolor": "white",
            "linecolor": "white",
            "ticks": ""
           },
           "bgcolor": "#E5ECF6",
           "radialaxis": {
            "gridcolor": "white",
            "linecolor": "white",
            "ticks": ""
           }
          },
          "scene": {
           "xaxis": {
            "backgroundcolor": "#E5ECF6",
            "gridcolor": "white",
            "gridwidth": 2,
            "linecolor": "white",
            "showbackground": true,
            "ticks": "",
            "zerolinecolor": "white"
           },
           "yaxis": {
            "backgroundcolor": "#E5ECF6",
            "gridcolor": "white",
            "gridwidth": 2,
            "linecolor": "white",
            "showbackground": true,
            "ticks": "",
            "zerolinecolor": "white"
           },
           "zaxis": {
            "backgroundcolor": "#E5ECF6",
            "gridcolor": "white",
            "gridwidth": 2,
            "linecolor": "white",
            "showbackground": true,
            "ticks": "",
            "zerolinecolor": "white"
           }
          },
          "shapedefaults": {
           "line": {
            "color": "#2a3f5f"
           }
          },
          "ternary": {
           "aaxis": {
            "gridcolor": "white",
            "linecolor": "white",
            "ticks": ""
           },
           "baxis": {
            "gridcolor": "white",
            "linecolor": "white",
            "ticks": ""
           },
           "bgcolor": "#E5ECF6",
           "caxis": {
            "gridcolor": "white",
            "linecolor": "white",
            "ticks": ""
           }
          },
          "title": {
           "x": 0.05
          },
          "xaxis": {
           "automargin": true,
           "gridcolor": "white",
           "linecolor": "white",
           "ticks": "",
           "title": {
            "standoff": 15
           },
           "zerolinecolor": "white",
           "zerolinewidth": 2
          },
          "yaxis": {
           "automargin": true,
           "gridcolor": "white",
           "linecolor": "white",
           "ticks": "",
           "title": {
            "standoff": 15
           },
           "zerolinecolor": "white",
           "zerolinewidth": 2
          }
         }
        },
        "title": {
         "text": "Optimization History Plot"
        },
        "xaxis": {
         "title": {
          "text": "Trial"
         }
        },
        "yaxis": {
         "title": {
          "text": "Objective Value"
         }
        }
       }
      }
     },
     "metadata": {},
     "output_type": "display_data"
    }
   ],
   "source": [
    "fig = optuna.visualization.plot_optimization_history(som_study)\n",
    "show(fig)"
   ]
  },
  {
   "cell_type": "code",
   "execution_count": 67,
   "id": "93d4466f7efb8af9",
   "metadata": {},
   "outputs": [
    {
     "data": {
      "application/vnd.plotly.v1+json": {
       "config": {
        "plotlyServerURL": "https://plot.ly"
       },
       "data": [
        {
         "cliponaxis": false,
         "hovertemplate": [
          "dim (IntDistribution): 0.0018775953714717153<extra></extra>",
          "topology (CategoricalDistribution): 0.002723578546580416<extra></extra>",
          "num_iteration (IntDistribution): 0.012028201574031025<extra></extra>",
          "sigma (FloatDistribution): 0.024894293960641585<extra></extra>",
          "learning_rate (FloatDistribution): 0.033568408849046924<extra></extra>",
          "neighborhood_function (CategoricalDistribution): 0.9249079216982283<extra></extra>"
         ],
         "name": "Objective Value",
         "orientation": "h",
         "text": [
          "<0.01",
          "<0.01",
          "0.01",
          "0.02",
          "0.03",
          "0.92"
         ],
         "textposition": "outside",
         "type": "bar",
         "x": [
          0.0018775953714717153,
          0.002723578546580416,
          0.012028201574031025,
          0.024894293960641585,
          0.033568408849046924,
          0.9249079216982283
         ],
         "y": [
          "dim",
          "topology",
          "num_iteration",
          "sigma",
          "learning_rate",
          "neighborhood_function"
         ]
        }
       ],
       "layout": {
        "template": {
         "data": {
          "bar": [
           {
            "error_x": {
             "color": "#2a3f5f"
            },
            "error_y": {
             "color": "#2a3f5f"
            },
            "marker": {
             "line": {
              "color": "#E5ECF6",
              "width": 0.5
             },
             "pattern": {
              "fillmode": "overlay",
              "size": 10,
              "solidity": 0.2
             }
            },
            "type": "bar"
           }
          ],
          "barpolar": [
           {
            "marker": {
             "line": {
              "color": "#E5ECF6",
              "width": 0.5
             },
             "pattern": {
              "fillmode": "overlay",
              "size": 10,
              "solidity": 0.2
             }
            },
            "type": "barpolar"
           }
          ],
          "carpet": [
           {
            "aaxis": {
             "endlinecolor": "#2a3f5f",
             "gridcolor": "white",
             "linecolor": "white",
             "minorgridcolor": "white",
             "startlinecolor": "#2a3f5f"
            },
            "baxis": {
             "endlinecolor": "#2a3f5f",
             "gridcolor": "white",
             "linecolor": "white",
             "minorgridcolor": "white",
             "startlinecolor": "#2a3f5f"
            },
            "type": "carpet"
           }
          ],
          "choropleth": [
           {
            "colorbar": {
             "outlinewidth": 0,
             "ticks": ""
            },
            "type": "choropleth"
           }
          ],
          "contour": [
           {
            "colorbar": {
             "outlinewidth": 0,
             "ticks": ""
            },
            "colorscale": [
             [
              0,
              "#0d0887"
             ],
             [
              0.1111111111111111,
              "#46039f"
             ],
             [
              0.2222222222222222,
              "#7201a8"
             ],
             [
              0.3333333333333333,
              "#9c179e"
             ],
             [
              0.4444444444444444,
              "#bd3786"
             ],
             [
              0.5555555555555556,
              "#d8576b"
             ],
             [
              0.6666666666666666,
              "#ed7953"
             ],
             [
              0.7777777777777778,
              "#fb9f3a"
             ],
             [
              0.8888888888888888,
              "#fdca26"
             ],
             [
              1,
              "#f0f921"
             ]
            ],
            "type": "contour"
           }
          ],
          "contourcarpet": [
           {
            "colorbar": {
             "outlinewidth": 0,
             "ticks": ""
            },
            "type": "contourcarpet"
           }
          ],
          "heatmap": [
           {
            "colorbar": {
             "outlinewidth": 0,
             "ticks": ""
            },
            "colorscale": [
             [
              0,
              "#0d0887"
             ],
             [
              0.1111111111111111,
              "#46039f"
             ],
             [
              0.2222222222222222,
              "#7201a8"
             ],
             [
              0.3333333333333333,
              "#9c179e"
             ],
             [
              0.4444444444444444,
              "#bd3786"
             ],
             [
              0.5555555555555556,
              "#d8576b"
             ],
             [
              0.6666666666666666,
              "#ed7953"
             ],
             [
              0.7777777777777778,
              "#fb9f3a"
             ],
             [
              0.8888888888888888,
              "#fdca26"
             ],
             [
              1,
              "#f0f921"
             ]
            ],
            "type": "heatmap"
           }
          ],
          "heatmapgl": [
           {
            "colorbar": {
             "outlinewidth": 0,
             "ticks": ""
            },
            "colorscale": [
             [
              0,
              "#0d0887"
             ],
             [
              0.1111111111111111,
              "#46039f"
             ],
             [
              0.2222222222222222,
              "#7201a8"
             ],
             [
              0.3333333333333333,
              "#9c179e"
             ],
             [
              0.4444444444444444,
              "#bd3786"
             ],
             [
              0.5555555555555556,
              "#d8576b"
             ],
             [
              0.6666666666666666,
              "#ed7953"
             ],
             [
              0.7777777777777778,
              "#fb9f3a"
             ],
             [
              0.8888888888888888,
              "#fdca26"
             ],
             [
              1,
              "#f0f921"
             ]
            ],
            "type": "heatmapgl"
           }
          ],
          "histogram": [
           {
            "marker": {
             "pattern": {
              "fillmode": "overlay",
              "size": 10,
              "solidity": 0.2
             }
            },
            "type": "histogram"
           }
          ],
          "histogram2d": [
           {
            "colorbar": {
             "outlinewidth": 0,
             "ticks": ""
            },
            "colorscale": [
             [
              0,
              "#0d0887"
             ],
             [
              0.1111111111111111,
              "#46039f"
             ],
             [
              0.2222222222222222,
              "#7201a8"
             ],
             [
              0.3333333333333333,
              "#9c179e"
             ],
             [
              0.4444444444444444,
              "#bd3786"
             ],
             [
              0.5555555555555556,
              "#d8576b"
             ],
             [
              0.6666666666666666,
              "#ed7953"
             ],
             [
              0.7777777777777778,
              "#fb9f3a"
             ],
             [
              0.8888888888888888,
              "#fdca26"
             ],
             [
              1,
              "#f0f921"
             ]
            ],
            "type": "histogram2d"
           }
          ],
          "histogram2dcontour": [
           {
            "colorbar": {
             "outlinewidth": 0,
             "ticks": ""
            },
            "colorscale": [
             [
              0,
              "#0d0887"
             ],
             [
              0.1111111111111111,
              "#46039f"
             ],
             [
              0.2222222222222222,
              "#7201a8"
             ],
             [
              0.3333333333333333,
              "#9c179e"
             ],
             [
              0.4444444444444444,
              "#bd3786"
             ],
             [
              0.5555555555555556,
              "#d8576b"
             ],
             [
              0.6666666666666666,
              "#ed7953"
             ],
             [
              0.7777777777777778,
              "#fb9f3a"
             ],
             [
              0.8888888888888888,
              "#fdca26"
             ],
             [
              1,
              "#f0f921"
             ]
            ],
            "type": "histogram2dcontour"
           }
          ],
          "mesh3d": [
           {
            "colorbar": {
             "outlinewidth": 0,
             "ticks": ""
            },
            "type": "mesh3d"
           }
          ],
          "parcoords": [
           {
            "line": {
             "colorbar": {
              "outlinewidth": 0,
              "ticks": ""
             }
            },
            "type": "parcoords"
           }
          ],
          "pie": [
           {
            "automargin": true,
            "type": "pie"
           }
          ],
          "scatter": [
           {
            "fillpattern": {
             "fillmode": "overlay",
             "size": 10,
             "solidity": 0.2
            },
            "type": "scatter"
           }
          ],
          "scatter3d": [
           {
            "line": {
             "colorbar": {
              "outlinewidth": 0,
              "ticks": ""
             }
            },
            "marker": {
             "colorbar": {
              "outlinewidth": 0,
              "ticks": ""
             }
            },
            "type": "scatter3d"
           }
          ],
          "scattercarpet": [
           {
            "marker": {
             "colorbar": {
              "outlinewidth": 0,
              "ticks": ""
             }
            },
            "type": "scattercarpet"
           }
          ],
          "scattergeo": [
           {
            "marker": {
             "colorbar": {
              "outlinewidth": 0,
              "ticks": ""
             }
            },
            "type": "scattergeo"
           }
          ],
          "scattergl": [
           {
            "marker": {
             "colorbar": {
              "outlinewidth": 0,
              "ticks": ""
             }
            },
            "type": "scattergl"
           }
          ],
          "scattermapbox": [
           {
            "marker": {
             "colorbar": {
              "outlinewidth": 0,
              "ticks": ""
             }
            },
            "type": "scattermapbox"
           }
          ],
          "scatterpolar": [
           {
            "marker": {
             "colorbar": {
              "outlinewidth": 0,
              "ticks": ""
             }
            },
            "type": "scatterpolar"
           }
          ],
          "scatterpolargl": [
           {
            "marker": {
             "colorbar": {
              "outlinewidth": 0,
              "ticks": ""
             }
            },
            "type": "scatterpolargl"
           }
          ],
          "scatterternary": [
           {
            "marker": {
             "colorbar": {
              "outlinewidth": 0,
              "ticks": ""
             }
            },
            "type": "scatterternary"
           }
          ],
          "surface": [
           {
            "colorbar": {
             "outlinewidth": 0,
             "ticks": ""
            },
            "colorscale": [
             [
              0,
              "#0d0887"
             ],
             [
              0.1111111111111111,
              "#46039f"
             ],
             [
              0.2222222222222222,
              "#7201a8"
             ],
             [
              0.3333333333333333,
              "#9c179e"
             ],
             [
              0.4444444444444444,
              "#bd3786"
             ],
             [
              0.5555555555555556,
              "#d8576b"
             ],
             [
              0.6666666666666666,
              "#ed7953"
             ],
             [
              0.7777777777777778,
              "#fb9f3a"
             ],
             [
              0.8888888888888888,
              "#fdca26"
             ],
             [
              1,
              "#f0f921"
             ]
            ],
            "type": "surface"
           }
          ],
          "table": [
           {
            "cells": {
             "fill": {
              "color": "#EBF0F8"
             },
             "line": {
              "color": "white"
             }
            },
            "header": {
             "fill": {
              "color": "#C8D4E3"
             },
             "line": {
              "color": "white"
             }
            },
            "type": "table"
           }
          ]
         },
         "layout": {
          "annotationdefaults": {
           "arrowcolor": "#2a3f5f",
           "arrowhead": 0,
           "arrowwidth": 1
          },
          "autotypenumbers": "strict",
          "coloraxis": {
           "colorbar": {
            "outlinewidth": 0,
            "ticks": ""
           }
          },
          "colorscale": {
           "diverging": [
            [
             0,
             "#8e0152"
            ],
            [
             0.1,
             "#c51b7d"
            ],
            [
             0.2,
             "#de77ae"
            ],
            [
             0.3,
             "#f1b6da"
            ],
            [
             0.4,
             "#fde0ef"
            ],
            [
             0.5,
             "#f7f7f7"
            ],
            [
             0.6,
             "#e6f5d0"
            ],
            [
             0.7,
             "#b8e186"
            ],
            [
             0.8,
             "#7fbc41"
            ],
            [
             0.9,
             "#4d9221"
            ],
            [
             1,
             "#276419"
            ]
           ],
           "sequential": [
            [
             0,
             "#0d0887"
            ],
            [
             0.1111111111111111,
             "#46039f"
            ],
            [
             0.2222222222222222,
             "#7201a8"
            ],
            [
             0.3333333333333333,
             "#9c179e"
            ],
            [
             0.4444444444444444,
             "#bd3786"
            ],
            [
             0.5555555555555556,
             "#d8576b"
            ],
            [
             0.6666666666666666,
             "#ed7953"
            ],
            [
             0.7777777777777778,
             "#fb9f3a"
            ],
            [
             0.8888888888888888,
             "#fdca26"
            ],
            [
             1,
             "#f0f921"
            ]
           ],
           "sequentialminus": [
            [
             0,
             "#0d0887"
            ],
            [
             0.1111111111111111,
             "#46039f"
            ],
            [
             0.2222222222222222,
             "#7201a8"
            ],
            [
             0.3333333333333333,
             "#9c179e"
            ],
            [
             0.4444444444444444,
             "#bd3786"
            ],
            [
             0.5555555555555556,
             "#d8576b"
            ],
            [
             0.6666666666666666,
             "#ed7953"
            ],
            [
             0.7777777777777778,
             "#fb9f3a"
            ],
            [
             0.8888888888888888,
             "#fdca26"
            ],
            [
             1,
             "#f0f921"
            ]
           ]
          },
          "colorway": [
           "#636efa",
           "#EF553B",
           "#00cc96",
           "#ab63fa",
           "#FFA15A",
           "#19d3f3",
           "#FF6692",
           "#B6E880",
           "#FF97FF",
           "#FECB52"
          ],
          "font": {
           "color": "#2a3f5f"
          },
          "geo": {
           "bgcolor": "white",
           "lakecolor": "white",
           "landcolor": "#E5ECF6",
           "showlakes": true,
           "showland": true,
           "subunitcolor": "white"
          },
          "hoverlabel": {
           "align": "left"
          },
          "hovermode": "closest",
          "mapbox": {
           "style": "light"
          },
          "paper_bgcolor": "white",
          "plot_bgcolor": "#E5ECF6",
          "polar": {
           "angularaxis": {
            "gridcolor": "white",
            "linecolor": "white",
            "ticks": ""
           },
           "bgcolor": "#E5ECF6",
           "radialaxis": {
            "gridcolor": "white",
            "linecolor": "white",
            "ticks": ""
           }
          },
          "scene": {
           "xaxis": {
            "backgroundcolor": "#E5ECF6",
            "gridcolor": "white",
            "gridwidth": 2,
            "linecolor": "white",
            "showbackground": true,
            "ticks": "",
            "zerolinecolor": "white"
           },
           "yaxis": {
            "backgroundcolor": "#E5ECF6",
            "gridcolor": "white",
            "gridwidth": 2,
            "linecolor": "white",
            "showbackground": true,
            "ticks": "",
            "zerolinecolor": "white"
           },
           "zaxis": {
            "backgroundcolor": "#E5ECF6",
            "gridcolor": "white",
            "gridwidth": 2,
            "linecolor": "white",
            "showbackground": true,
            "ticks": "",
            "zerolinecolor": "white"
           }
          },
          "shapedefaults": {
           "line": {
            "color": "#2a3f5f"
           }
          },
          "ternary": {
           "aaxis": {
            "gridcolor": "white",
            "linecolor": "white",
            "ticks": ""
           },
           "baxis": {
            "gridcolor": "white",
            "linecolor": "white",
            "ticks": ""
           },
           "bgcolor": "#E5ECF6",
           "caxis": {
            "gridcolor": "white",
            "linecolor": "white",
            "ticks": ""
           }
          },
          "title": {
           "x": 0.05
          },
          "xaxis": {
           "automargin": true,
           "gridcolor": "white",
           "linecolor": "white",
           "ticks": "",
           "title": {
            "standoff": 15
           },
           "zerolinecolor": "white",
           "zerolinewidth": 2
          },
          "yaxis": {
           "automargin": true,
           "gridcolor": "white",
           "linecolor": "white",
           "ticks": "",
           "title": {
            "standoff": 15
           },
           "zerolinecolor": "white",
           "zerolinewidth": 2
          }
         }
        },
        "title": {
         "text": "Hyperparameter Importances"
        },
        "xaxis": {
         "title": {
          "text": "Hyperparameter Importance"
         }
        },
        "yaxis": {
         "title": {
          "text": "Hyperparameter"
         }
        }
       }
      }
     },
     "metadata": {},
     "output_type": "display_data"
    }
   ],
   "source": [
    "fig = optuna.visualization.plot_param_importances(som_study)\n",
    "show(fig)"
   ]
  },
  {
   "cell_type": "code",
   "execution_count": 68,
   "id": "710b37f40ea3e5cb",
   "metadata": {},
   "outputs": [
    {
     "data": {
      "application/vnd.plotly.v1+json": {
       "config": {
        "plotlyServerURL": "https://plot.ly"
       },
       "data": [
        {
         "dimensions": [
          {
           "label": "Objective Value",
           "range": [
            65.2777777777778,
            88.57638888888889
           ],
           "values": [
            80.55555555555556,
            85.41666666666666,
            65.5902777777778,
            82.8125,
            65.93750000000003,
            65.38194444444446,
            83.12500000000001,
            65.59027777777779,
            65.2777777777778,
            79.20138888888889,
            75.97222222222221,
            82.15277777777779,
            80.41666666666666,
            73.71527777777779,
            70.79861111111111,
            83.26388888888889,
            85.10416666666666,
            84.96527777777779,
            83.15972222222223,
            79.6875,
            86.4236111111111,
            86.18055555555556,
            88.0902777777778,
            86.77083333333334,
            83.15972222222223,
            85.41666666666666,
            85.90277777777777,
            85.24305555555556,
            86.70138888888889,
            87.6736111111111,
            86.18055555555556,
            87.11805555555557,
            83.92361111111111,
            85.38194444444443,
            88.57638888888889,
            88.19444444444444,
            86.59722222222221,
            85.24305555555557,
            87.43055555555554,
            65.2777777777778,
            86.28472222222223,
            85.90277777777779,
            87.6736111111111,
            86.63194444444444,
            86.04166666666666,
            65.2777777777778,
            79.34027777777779,
            86.18055555555557,
            74.37499999999999,
            83.74999999999999
           ]
          },
          {
           "label": "dim",
           "range": [
            5,
            100
           ],
           "values": [
            56,
            81,
            85,
            18,
            56,
            39,
            36,
            82,
            100,
            19,
            79,
            38,
            39,
            5,
            65,
            69,
            70,
            97,
            74,
            91,
            62,
            65,
            63,
            62,
            49,
            49,
            62,
            59,
            44,
            52,
            31,
            49,
            53,
            46,
            55,
            28,
            31,
            11,
            22,
            74,
            55,
            24,
            19,
            14,
            27,
            42,
            32,
            10,
            57,
            18
           ]
          },
          {
           "label": "learning_rate",
           "range": [
            0.025291603774208693,
            1.486596022098938
           ],
           "values": [
            1.169804384371962,
            0.7547045556166782,
            1.12343973632058,
            0.5105088212578627,
            1.2243068356229083,
            1.0855469762495285,
            0.48372356355798946,
            0.4742918643254635,
            1.269502462299482,
            0.9038239072144085,
            0.025291603774208693,
            0.6105332101680436,
            0.2214088607305088,
            0.7887833627971925,
            1.486596022098938,
            0.34006513241227515,
            0.24951439141363524,
            0.08254541174443542,
            0.714669235006958,
            0.9155557650109107,
            0.2805755776506432,
            0.23000688340517328,
            0.28525620299202137,
            0.1783418778896874,
            0.36441023806715345,
            0.11724559088345787,
            0.39456768316454915,
            0.2199793681365222,
            0.5950269790207602,
            0.5629592348045227,
            0.589697374356314,
            0.6156038367509181,
            0.14267441910591794,
            0.7150354693343908,
            0.4449250502566837,
            0.43273329168733904,
            0.4321359734741752,
            0.5326242556267485,
            0.3181381073511702,
            0.4460311888692776,
            0.8287538984312558,
            0.30943201111437285,
            0.5046536066960011,
            0.5246985987093684,
            0.41280409689181646,
            0.6590993667945997,
            0.5203238350603769,
            0.47628041389075904,
            0.6802522559830955,
            0.39290948437656226
           ]
          },
          {
           "label": "num_iteration",
           "range": [
            102,
            1500
           ],
           "values": [
            377,
            1469,
            1169,
            1188,
            1154,
            785,
            696,
            532,
            367,
            1167,
            1499,
            778,
            615,
            1500,
            102,
            937,
            985,
            1355,
            954,
            982,
            1338,
            1313,
            1338,
            1312,
            1348,
            1290,
            1106,
            1267,
            1062,
            1031,
            823,
            998,
            873,
            1042,
            1397,
            1432,
            1407,
            1232,
            1412,
            1420,
            1230,
            1429,
            1403,
            1142,
            1227,
            1500,
            433,
            1378,
            1183,
            690
           ]
          },
          {
           "label": "sigma",
           "range": [
            1.0011682301206224,
            4.990657647642311
           ],
           "values": [
            2.0992565610999603,
            1.3393178399578605,
            4.031464156713386,
            4.120491864495927,
            3.6978969282673493,
            3.2399441911512517,
            1.568303187989041,
            4.067205444746998,
            1.8812587131137368,
            3.8491748503933008,
            2.614284121607151,
            1.1098693210520847,
            1.2575200427650257,
            1.8652393875489868,
            4.990657647642311,
            1.4931924075022085,
            2.432041066983627,
            2.6324579174877365,
            2.4056004840913476,
            3.0823578836854963,
            2.276128599700494,
            2.280727972085181,
            2.0627418893390272,
            2.111627763726459,
            2.86556964719635,
            1.8763336264583526,
            2.103245701099717,
            3.3009382422770406,
            1.664970395388961,
            1.5978699770203133,
            2.0086788065968677,
            1.5686048502593932,
            1.6413357449406012,
            1.2776886788895134,
            1.0881717564709772,
            1.1288436430763529,
            1.0122085935545813,
            1.3183482292219069,
            1.0147117676212059,
            1.4775074909947743,
            1.7434067986093145,
            1.0011682301206224,
            1.165580950986743,
            1.372374700484047,
            1.1662750259161987,
            1.4046977009542352,
            1.2174578684195532,
            1.7608158699866938,
            4.568205138379787,
            1.5153649580262571
           ]
          }
         ],
         "labelangle": 30,
         "labelside": "bottom",
         "line": {
          "color": [
           80.55555555555556,
           85.41666666666666,
           65.5902777777778,
           82.8125,
           65.93750000000003,
           65.38194444444446,
           83.12500000000001,
           65.59027777777779,
           65.2777777777778,
           79.20138888888889,
           75.97222222222221,
           82.15277777777779,
           80.41666666666666,
           73.71527777777779,
           70.79861111111111,
           83.26388888888889,
           85.10416666666666,
           84.96527777777779,
           83.15972222222223,
           79.6875,
           86.4236111111111,
           86.18055555555556,
           88.0902777777778,
           86.77083333333334,
           83.15972222222223,
           85.41666666666666,
           85.90277777777777,
           85.24305555555556,
           86.70138888888889,
           87.6736111111111,
           86.18055555555556,
           87.11805555555557,
           83.92361111111111,
           85.38194444444443,
           88.57638888888889,
           88.19444444444444,
           86.59722222222221,
           85.24305555555557,
           87.43055555555554,
           65.2777777777778,
           86.28472222222223,
           85.90277777777779,
           87.6736111111111,
           86.63194444444444,
           86.04166666666666,
           65.2777777777778,
           79.34027777777779,
           86.18055555555557,
           74.37499999999999,
           83.74999999999999
          ],
          "colorbar": {
           "title": {
            "text": "Objective Value"
           }
          },
          "colorscale": [
           [
            0,
            "rgb(247,251,255)"
           ],
           [
            0.125,
            "rgb(222,235,247)"
           ],
           [
            0.25,
            "rgb(198,219,239)"
           ],
           [
            0.375,
            "rgb(158,202,225)"
           ],
           [
            0.5,
            "rgb(107,174,214)"
           ],
           [
            0.625,
            "rgb(66,146,198)"
           ],
           [
            0.75,
            "rgb(33,113,181)"
           ],
           [
            0.875,
            "rgb(8,81,156)"
           ],
           [
            1,
            "rgb(8,48,107)"
           ]
          ],
          "reversescale": false,
          "showscale": true
         },
         "type": "parcoords"
        }
       ],
       "layout": {
        "template": {
         "data": {
          "bar": [
           {
            "error_x": {
             "color": "#2a3f5f"
            },
            "error_y": {
             "color": "#2a3f5f"
            },
            "marker": {
             "line": {
              "color": "#E5ECF6",
              "width": 0.5
             },
             "pattern": {
              "fillmode": "overlay",
              "size": 10,
              "solidity": 0.2
             }
            },
            "type": "bar"
           }
          ],
          "barpolar": [
           {
            "marker": {
             "line": {
              "color": "#E5ECF6",
              "width": 0.5
             },
             "pattern": {
              "fillmode": "overlay",
              "size": 10,
              "solidity": 0.2
             }
            },
            "type": "barpolar"
           }
          ],
          "carpet": [
           {
            "aaxis": {
             "endlinecolor": "#2a3f5f",
             "gridcolor": "white",
             "linecolor": "white",
             "minorgridcolor": "white",
             "startlinecolor": "#2a3f5f"
            },
            "baxis": {
             "endlinecolor": "#2a3f5f",
             "gridcolor": "white",
             "linecolor": "white",
             "minorgridcolor": "white",
             "startlinecolor": "#2a3f5f"
            },
            "type": "carpet"
           }
          ],
          "choropleth": [
           {
            "colorbar": {
             "outlinewidth": 0,
             "ticks": ""
            },
            "type": "choropleth"
           }
          ],
          "contour": [
           {
            "colorbar": {
             "outlinewidth": 0,
             "ticks": ""
            },
            "colorscale": [
             [
              0,
              "#0d0887"
             ],
             [
              0.1111111111111111,
              "#46039f"
             ],
             [
              0.2222222222222222,
              "#7201a8"
             ],
             [
              0.3333333333333333,
              "#9c179e"
             ],
             [
              0.4444444444444444,
              "#bd3786"
             ],
             [
              0.5555555555555556,
              "#d8576b"
             ],
             [
              0.6666666666666666,
              "#ed7953"
             ],
             [
              0.7777777777777778,
              "#fb9f3a"
             ],
             [
              0.8888888888888888,
              "#fdca26"
             ],
             [
              1,
              "#f0f921"
             ]
            ],
            "type": "contour"
           }
          ],
          "contourcarpet": [
           {
            "colorbar": {
             "outlinewidth": 0,
             "ticks": ""
            },
            "type": "contourcarpet"
           }
          ],
          "heatmap": [
           {
            "colorbar": {
             "outlinewidth": 0,
             "ticks": ""
            },
            "colorscale": [
             [
              0,
              "#0d0887"
             ],
             [
              0.1111111111111111,
              "#46039f"
             ],
             [
              0.2222222222222222,
              "#7201a8"
             ],
             [
              0.3333333333333333,
              "#9c179e"
             ],
             [
              0.4444444444444444,
              "#bd3786"
             ],
             [
              0.5555555555555556,
              "#d8576b"
             ],
             [
              0.6666666666666666,
              "#ed7953"
             ],
             [
              0.7777777777777778,
              "#fb9f3a"
             ],
             [
              0.8888888888888888,
              "#fdca26"
             ],
             [
              1,
              "#f0f921"
             ]
            ],
            "type": "heatmap"
           }
          ],
          "heatmapgl": [
           {
            "colorbar": {
             "outlinewidth": 0,
             "ticks": ""
            },
            "colorscale": [
             [
              0,
              "#0d0887"
             ],
             [
              0.1111111111111111,
              "#46039f"
             ],
             [
              0.2222222222222222,
              "#7201a8"
             ],
             [
              0.3333333333333333,
              "#9c179e"
             ],
             [
              0.4444444444444444,
              "#bd3786"
             ],
             [
              0.5555555555555556,
              "#d8576b"
             ],
             [
              0.6666666666666666,
              "#ed7953"
             ],
             [
              0.7777777777777778,
              "#fb9f3a"
             ],
             [
              0.8888888888888888,
              "#fdca26"
             ],
             [
              1,
              "#f0f921"
             ]
            ],
            "type": "heatmapgl"
           }
          ],
          "histogram": [
           {
            "marker": {
             "pattern": {
              "fillmode": "overlay",
              "size": 10,
              "solidity": 0.2
             }
            },
            "type": "histogram"
           }
          ],
          "histogram2d": [
           {
            "colorbar": {
             "outlinewidth": 0,
             "ticks": ""
            },
            "colorscale": [
             [
              0,
              "#0d0887"
             ],
             [
              0.1111111111111111,
              "#46039f"
             ],
             [
              0.2222222222222222,
              "#7201a8"
             ],
             [
              0.3333333333333333,
              "#9c179e"
             ],
             [
              0.4444444444444444,
              "#bd3786"
             ],
             [
              0.5555555555555556,
              "#d8576b"
             ],
             [
              0.6666666666666666,
              "#ed7953"
             ],
             [
              0.7777777777777778,
              "#fb9f3a"
             ],
             [
              0.8888888888888888,
              "#fdca26"
             ],
             [
              1,
              "#f0f921"
             ]
            ],
            "type": "histogram2d"
           }
          ],
          "histogram2dcontour": [
           {
            "colorbar": {
             "outlinewidth": 0,
             "ticks": ""
            },
            "colorscale": [
             [
              0,
              "#0d0887"
             ],
             [
              0.1111111111111111,
              "#46039f"
             ],
             [
              0.2222222222222222,
              "#7201a8"
             ],
             [
              0.3333333333333333,
              "#9c179e"
             ],
             [
              0.4444444444444444,
              "#bd3786"
             ],
             [
              0.5555555555555556,
              "#d8576b"
             ],
             [
              0.6666666666666666,
              "#ed7953"
             ],
             [
              0.7777777777777778,
              "#fb9f3a"
             ],
             [
              0.8888888888888888,
              "#fdca26"
             ],
             [
              1,
              "#f0f921"
             ]
            ],
            "type": "histogram2dcontour"
           }
          ],
          "mesh3d": [
           {
            "colorbar": {
             "outlinewidth": 0,
             "ticks": ""
            },
            "type": "mesh3d"
           }
          ],
          "parcoords": [
           {
            "line": {
             "colorbar": {
              "outlinewidth": 0,
              "ticks": ""
             }
            },
            "type": "parcoords"
           }
          ],
          "pie": [
           {
            "automargin": true,
            "type": "pie"
           }
          ],
          "scatter": [
           {
            "fillpattern": {
             "fillmode": "overlay",
             "size": 10,
             "solidity": 0.2
            },
            "type": "scatter"
           }
          ],
          "scatter3d": [
           {
            "line": {
             "colorbar": {
              "outlinewidth": 0,
              "ticks": ""
             }
            },
            "marker": {
             "colorbar": {
              "outlinewidth": 0,
              "ticks": ""
             }
            },
            "type": "scatter3d"
           }
          ],
          "scattercarpet": [
           {
            "marker": {
             "colorbar": {
              "outlinewidth": 0,
              "ticks": ""
             }
            },
            "type": "scattercarpet"
           }
          ],
          "scattergeo": [
           {
            "marker": {
             "colorbar": {
              "outlinewidth": 0,
              "ticks": ""
             }
            },
            "type": "scattergeo"
           }
          ],
          "scattergl": [
           {
            "marker": {
             "colorbar": {
              "outlinewidth": 0,
              "ticks": ""
             }
            },
            "type": "scattergl"
           }
          ],
          "scattermapbox": [
           {
            "marker": {
             "colorbar": {
              "outlinewidth": 0,
              "ticks": ""
             }
            },
            "type": "scattermapbox"
           }
          ],
          "scatterpolar": [
           {
            "marker": {
             "colorbar": {
              "outlinewidth": 0,
              "ticks": ""
             }
            },
            "type": "scatterpolar"
           }
          ],
          "scatterpolargl": [
           {
            "marker": {
             "colorbar": {
              "outlinewidth": 0,
              "ticks": ""
             }
            },
            "type": "scatterpolargl"
           }
          ],
          "scatterternary": [
           {
            "marker": {
             "colorbar": {
              "outlinewidth": 0,
              "ticks": ""
             }
            },
            "type": "scatterternary"
           }
          ],
          "surface": [
           {
            "colorbar": {
             "outlinewidth": 0,
             "ticks": ""
            },
            "colorscale": [
             [
              0,
              "#0d0887"
             ],
             [
              0.1111111111111111,
              "#46039f"
             ],
             [
              0.2222222222222222,
              "#7201a8"
             ],
             [
              0.3333333333333333,
              "#9c179e"
             ],
             [
              0.4444444444444444,
              "#bd3786"
             ],
             [
              0.5555555555555556,
              "#d8576b"
             ],
             [
              0.6666666666666666,
              "#ed7953"
             ],
             [
              0.7777777777777778,
              "#fb9f3a"
             ],
             [
              0.8888888888888888,
              "#fdca26"
             ],
             [
              1,
              "#f0f921"
             ]
            ],
            "type": "surface"
           }
          ],
          "table": [
           {
            "cells": {
             "fill": {
              "color": "#EBF0F8"
             },
             "line": {
              "color": "white"
             }
            },
            "header": {
             "fill": {
              "color": "#C8D4E3"
             },
             "line": {
              "color": "white"
             }
            },
            "type": "table"
           }
          ]
         },
         "layout": {
          "annotationdefaults": {
           "arrowcolor": "#2a3f5f",
           "arrowhead": 0,
           "arrowwidth": 1
          },
          "autotypenumbers": "strict",
          "coloraxis": {
           "colorbar": {
            "outlinewidth": 0,
            "ticks": ""
           }
          },
          "colorscale": {
           "diverging": [
            [
             0,
             "#8e0152"
            ],
            [
             0.1,
             "#c51b7d"
            ],
            [
             0.2,
             "#de77ae"
            ],
            [
             0.3,
             "#f1b6da"
            ],
            [
             0.4,
             "#fde0ef"
            ],
            [
             0.5,
             "#f7f7f7"
            ],
            [
             0.6,
             "#e6f5d0"
            ],
            [
             0.7,
             "#b8e186"
            ],
            [
             0.8,
             "#7fbc41"
            ],
            [
             0.9,
             "#4d9221"
            ],
            [
             1,
             "#276419"
            ]
           ],
           "sequential": [
            [
             0,
             "#0d0887"
            ],
            [
             0.1111111111111111,
             "#46039f"
            ],
            [
             0.2222222222222222,
             "#7201a8"
            ],
            [
             0.3333333333333333,
             "#9c179e"
            ],
            [
             0.4444444444444444,
             "#bd3786"
            ],
            [
             0.5555555555555556,
             "#d8576b"
            ],
            [
             0.6666666666666666,
             "#ed7953"
            ],
            [
             0.7777777777777778,
             "#fb9f3a"
            ],
            [
             0.8888888888888888,
             "#fdca26"
            ],
            [
             1,
             "#f0f921"
            ]
           ],
           "sequentialminus": [
            [
             0,
             "#0d0887"
            ],
            [
             0.1111111111111111,
             "#46039f"
            ],
            [
             0.2222222222222222,
             "#7201a8"
            ],
            [
             0.3333333333333333,
             "#9c179e"
            ],
            [
             0.4444444444444444,
             "#bd3786"
            ],
            [
             0.5555555555555556,
             "#d8576b"
            ],
            [
             0.6666666666666666,
             "#ed7953"
            ],
            [
             0.7777777777777778,
             "#fb9f3a"
            ],
            [
             0.8888888888888888,
             "#fdca26"
            ],
            [
             1,
             "#f0f921"
            ]
           ]
          },
          "colorway": [
           "#636efa",
           "#EF553B",
           "#00cc96",
           "#ab63fa",
           "#FFA15A",
           "#19d3f3",
           "#FF6692",
           "#B6E880",
           "#FF97FF",
           "#FECB52"
          ],
          "font": {
           "color": "#2a3f5f"
          },
          "geo": {
           "bgcolor": "white",
           "lakecolor": "white",
           "landcolor": "#E5ECF6",
           "showlakes": true,
           "showland": true,
           "subunitcolor": "white"
          },
          "hoverlabel": {
           "align": "left"
          },
          "hovermode": "closest",
          "mapbox": {
           "style": "light"
          },
          "paper_bgcolor": "white",
          "plot_bgcolor": "#E5ECF6",
          "polar": {
           "angularaxis": {
            "gridcolor": "white",
            "linecolor": "white",
            "ticks": ""
           },
           "bgcolor": "#E5ECF6",
           "radialaxis": {
            "gridcolor": "white",
            "linecolor": "white",
            "ticks": ""
           }
          },
          "scene": {
           "xaxis": {
            "backgroundcolor": "#E5ECF6",
            "gridcolor": "white",
            "gridwidth": 2,
            "linecolor": "white",
            "showbackground": true,
            "ticks": "",
            "zerolinecolor": "white"
           },
           "yaxis": {
            "backgroundcolor": "#E5ECF6",
            "gridcolor": "white",
            "gridwidth": 2,
            "linecolor": "white",
            "showbackground": true,
            "ticks": "",
            "zerolinecolor": "white"
           },
           "zaxis": {
            "backgroundcolor": "#E5ECF6",
            "gridcolor": "white",
            "gridwidth": 2,
            "linecolor": "white",
            "showbackground": true,
            "ticks": "",
            "zerolinecolor": "white"
           }
          },
          "shapedefaults": {
           "line": {
            "color": "#2a3f5f"
           }
          },
          "ternary": {
           "aaxis": {
            "gridcolor": "white",
            "linecolor": "white",
            "ticks": ""
           },
           "baxis": {
            "gridcolor": "white",
            "linecolor": "white",
            "ticks": ""
           },
           "bgcolor": "#E5ECF6",
           "caxis": {
            "gridcolor": "white",
            "linecolor": "white",
            "ticks": ""
           }
          },
          "title": {
           "x": 0.05
          },
          "xaxis": {
           "automargin": true,
           "gridcolor": "white",
           "linecolor": "white",
           "ticks": "",
           "title": {
            "standoff": 15
           },
           "zerolinecolor": "white",
           "zerolinewidth": 2
          },
          "yaxis": {
           "automargin": true,
           "gridcolor": "white",
           "linecolor": "white",
           "ticks": "",
           "title": {
            "standoff": 15
           },
           "zerolinecolor": "white",
           "zerolinewidth": 2
          }
         }
        },
        "title": {
         "text": "Parallel Coordinate Plot"
        }
       }
      }
     },
     "metadata": {},
     "output_type": "display_data"
    }
   ],
   "source": [
    "fig = optuna.visualization.plot_parallel_coordinate(som_study, params=['num_iteration', 'dim', 'sigma', 'learning_rate'])\n",
    "show(fig)"
   ]
  },
  {
   "cell_type": "code",
   "execution_count": 69,
   "id": "9471a99d115e3fd3",
   "metadata": {},
   "outputs": [],
   "source": [
    "N = data.shape[0]\n",
    "M = 5 * N ** 0.5\n",
    "som_width = int(math.sqrt(M))\n",
    "som_height = int(M / som_width)"
   ]
  },
  {
   "cell_type": "code",
   "execution_count": 70,
   "id": "d0960671d6d1a637",
   "metadata": {},
   "outputs": [
    {
     "data": {
      "text/plain": [
       "154.7578754054216"
      ]
     },
     "execution_count": 70,
     "metadata": {},
     "output_type": "execute_result"
    }
   ],
   "source": [
    "M"
   ]
  },
  {
   "cell_type": "code",
   "execution_count": 71,
   "id": "adc6c1d742d10f03",
   "metadata": {},
   "outputs": [
    {
     "name": "stdout",
     "output_type": "stream",
     "text": [
      "SOM width:  12\n",
      "SOM height: 12\n"
     ]
    }
   ],
   "source": [
    "print(f'SOM width:  {som_width}')\n",
    "print(f'SOM height: {som_height}')"
   ]
  },
  {
   "cell_type": "code",
   "execution_count": 72,
   "id": "fc33bb89e17e4daa",
   "metadata": {},
   "outputs": [],
   "source": [
    "def calculate(y_predicted):\n",
    "    true_positive = 0\n",
    "    false_positive = 0\n",
    "    true_negative = 0\n",
    "    false_negative = 0\n",
    "\n",
    "    for i, predicted in enumerate(y_predicted):\n",
    "        if predicted == 1:\n",
    "            if y_som_test[i] == 1:\n",
    "                true_positive += 1      # model correctly classified a positive example as positive\n",
    "            else:\n",
    "                false_positive += 1     # model incorrectly classified a negative example as positive\n",
    "        else:\n",
    "            if y_som_test[i] == 0:\n",
    "                true_negative += 1      # model correctly classified a negative example as negative\n",
    "            else:\n",
    "                false_negative += 1     # model incorrectly classified a positive example as negative\n",
    "\n",
    "    accuracy = (true_positive + true_negative) / (true_positive + true_negative + false_positive + false_negative)\n",
    "    precision = true_positive / (true_positive + false_positive)\n",
    "    return accuracy * 100, precision * 100"
   ]
  },
  {
   "cell_type": "code",
   "execution_count": 73,
   "id": "9af4e12aa0088114",
   "metadata": {},
   "outputs": [
    {
     "name": "stdout",
     "output_type": "stream",
     "text": [
      "Accuracy:   84.028\n",
      "Precision:  84.466\n"
     ]
    }
   ],
   "source": [
    "best_som_params = best_som_trial.params\n",
    "\n",
    "som_num_iteration = best_som_params['num_iteration']\n",
    "som_sigma = best_som_params['sigma']\n",
    "som_learning_rate = best_som_params['learning_rate']\n",
    "som_topology = best_som_params['topology']\n",
    "som_neighborhood_function = best_som_params['neighborhood_function']\n",
    "\n",
    "som_model = MiniSom(som_width, som_height, X_SOM.shape[1], neighborhood_function=som_neighborhood_function,\n",
    "                    topology=som_topology, sigma=som_sigma, learning_rate=som_learning_rate)\n",
    "som_model.pca_weights_init(x_som_train)\n",
    "som_model.train_random(x_som_train, num_iteration=som_num_iteration, verbose=0)\n",
    "\n",
    "y_som_predicted = classify(som_model, x_som_train, x_som_test, y_som_train)\n",
    "som_accuracy, som_precision = calculate(y_som_predicted)\n",
    "print(f'Accuracy:  {som_accuracy: .3f}')\n",
    "print(f'Precision: {som_precision: .3f}')"
   ]
  },
  {
   "cell_type": "markdown",
   "id": "8106c3569e27de52",
   "metadata": {},
   "source": [
    "Since the model is retrained with parameters obtained from `best_som_trial.params`, accuracy and precision may vary slightly."
   ]
  },
  {
   "cell_type": "markdown",
   "id": "c797cf1a8c5a7650",
   "metadata": {},
   "source": [
    "# **Outcomes**"
   ]
  },
  {
   "cell_type": "markdown",
   "id": "a2c1c89bd4d301eb",
   "metadata": {},
   "source": [
    "## FFNN"
   ]
  },
  {
   "cell_type": "code",
   "execution_count": 74,
   "id": "38e4fbce3265e930",
   "metadata": {},
   "outputs": [
    {
     "data": {
      "image/png": "[encoded data removed]",
      "text/plain": [
       "<Figure size 1200x600 with 2 Axes>"
      ]
     },
     "metadata": {},
     "output_type": "display_data"
    }
   ],
   "source": [
    "ffnn_history_dict = ffnn_history.history\n",
    "plt.figure(figsize=(12, 6))\n",
    "\n",
    "plt.subplot(1, 2, 1)\n",
    "plt.plot(ffnn_history_dict['accuracy'], label='Training Accuracy')\n",
    "plt.plot(ffnn_history_dict['val_accuracy'], label='Validation Accuracy')\n",
    "plt.title('Training and Validation Accuracy')\n",
    "plt.xlabel('Epochs')\n",
    "plt.ylabel('Accuracy')\n",
    "plt.legend()\n",
    "\n",
    "plt.subplot(1, 2, 2)\n",
    "plt.plot(ffnn_history_dict['loss'], label='Training Loss')\n",
    "plt.plot(ffnn_history_dict['val_loss'], label='Validation Loss')\n",
    "plt.title('Training and Validation Loss')\n",
    "plt.xlabel('Epochs')\n",
    "plt.ylabel('Loss')\n",
    "plt.legend()\n",
    "\n",
    "plt.tight_layout()\n",
    "plt.show()"
   ]
  },
  {
   "cell_type": "code",
   "execution_count": 75,
   "id": "ddafbb46d4492c27",
   "metadata": {},
   "outputs": [
    {
     "name": "stdout",
     "output_type": "stream",
     "text": [
      "\u001b[1m9/9\u001b[0m \u001b[32m━━━━━━━━━━━━━━━━━━━━\u001b[0m\u001b[37m\u001b[0m \u001b[1m0s\u001b[0m 4ms/step \n"
     ]
    },
    {
     "data": {
      "image/png": "[encoded data removed]",
      "text/plain": [
       "<Figure size 800x600 with 1 Axes>"
      ]
     },
     "metadata": {},
     "output_type": "display_data"
    }
   ],
   "source": [
    "y_ffnn_pred = ffnn_model.predict(x_ffnn_test)\n",
    "y_test_bin = label_binarize(y_ffnn_test, classes=np.unique(y_ffnn_test))\n",
    "fpr, tpr, thresholds = roc_curve(y_test_bin.ravel(), y_ffnn_pred.ravel())\n",
    "roc_auc = auc(fpr, tpr)\n",
    "\n",
    "plt.figure(figsize=(8, 6))\n",
    "plt.plot(fpr, tpr, color='red', label=f'ROC curve (AUC = {roc_auc:.2f})')\n",
    "plt.plot([0, 1], [0, 1], color='gray', linestyle='--')\n",
    "plt.title('Receiver Operating Characteristic (ROC) Curve')\n",
    "plt.xlabel('False Positive Rate')\n",
    "plt.ylabel('True Positive Rate')\n",
    "plt.legend(loc='lower right')\n",
    "plt.show()"
   ]
  },
  {
   "cell_type": "markdown",
   "id": "21a4bbd25feb0c53",
   "metadata": {},
   "source": [
    "## SOM"
   ]
  },
  {
   "cell_type": "code",
   "execution_count": 76,
   "id": "65ee0ae822aaca80",
   "metadata": {},
   "outputs": [
    {
     "data": {
      "image/png": "[encoded data removed]",
      "text/plain": [
       "<Figure size 800x800 with 2 Axes>"
      ]
     },
     "metadata": {},
     "output_type": "display_data"
    }
   ],
   "source": [
    "plt.figure(figsize=(8, 8))\n",
    "frequencies = som_model.activation_response(X_SOM)\n",
    "plt.pcolor(frequencies.T, cmap='Blues')\n",
    "plt.colorbar()\n",
    "plt.show()"
   ]
  },
  {
   "cell_type": "code",
   "execution_count": 77,
   "id": "73d3edb1188fb128",
   "metadata": {},
   "outputs": [
    {
     "data": {
      "image/png": "[encoded data removed]",
      "text/plain": [
       "<Figure size 500x500 with 1 Axes>"
      ]
     },
     "metadata": {},
     "output_type": "display_data"
    }
   ],
   "source": [
    "winmap = som_model.labels_map(x_som_train, y_som_train)\n",
    "fig = plt.figure(figsize=(5, 5))\n",
    "ax = fig.add_subplot(1, 1, 1)\n",
    "cmap = {1: '#60d394', 0: '#ee6055'}\n",
    "\n",
    "for x in range(som_width):\n",
    "    for y in range(som_height):\n",
    "        win_position = (x, y)\n",
    "        if win_position in winmap:\n",
    "            labels_counts = winmap[win_position].most_common()\n",
    "            labels = [x[0] for x in labels_counts]\n",
    "            counts = [x[1] for x in labels_counts]\n",
    "            colors = [cmap[l] for l in labels]\n",
    "            ax.pie(counts, labels=None, colors=colors, center=(x, y), radius=0.4)\n",
    "        else:\n",
    "            ax.pie([1], colors=['grey'], center=(x, y), radius=0.4)\n",
    "\n",
    "ax.set_xlim(-0.5, som_width - 0.5)\n",
    "ax.set_ylim(-0.5, som_height - 0.5)\n",
    "handles = [\n",
    "    Line2D([0], [0], color='#60d394', lw=7, label='Positive'),\n",
    "    Line2D([0], [0], color='#ee6055', lw=7, label='Negative'),\n",
    "    Line2D([0], [0], color='grey', lw=7, label='No label')\n",
    "]\n",
    "fig.legend(handles=handles, bbox_to_anchor=(1.01, 0.95), loc='upper left')\n",
    "plt.tight_layout()\n",
    "plt.show()"
   ]
  }
 ],
 "metadata": {
  "kernelspec": {
   "display_name": "Python 3",
   "language": "python",
   "name": "python3"
  },
  "language_info": {
   "codemirror_mode": {
    "name": "ipython",
    "version": 3
   },
   "file_extension": ".py",
   "mimetype": "text/x-python",
   "name": "python",
   "nbconvert_exporter": "python",
   "pygments_lexer": "ipython3",
   "version": "3.12.6"
  }
 },
 "nbformat": 4,
 "nbformat_minor": 5
}
